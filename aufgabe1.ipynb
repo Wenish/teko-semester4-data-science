{
 "cells": [
  {
   "cell_type": "markdown",
   "id": "567dd9e7",
   "metadata": {},
   "source": [
    "Aufgabe 1"
   ]
  },
  {
   "cell_type": "code",
   "execution_count": 3,
   "id": "4ec00e61",
   "metadata": {},
   "outputs": [
    {
     "name": "stdout",
     "output_type": "stream",
     "text": [
      "Die ganzzahlige Division von a und b ergibt:  1\n",
      "Der Rest der ganzzahligen Division von a und b ergibt:  0\n"
     ]
    }
   ],
   "source": [
    "a = int(input(\"Gib Zahl a ein: \"))\n",
    " \n",
    "b = int(input(\"Gib Zahl b ein: \"))\n",
    " \n",
    "print(\"Die ganzzahlige Division von a und b ergibt: \", a // b)\n",
    "print(\"Der Rest der ganzzahligen Division von a und b ergibt: \", a % b)"
   ]
  },
  {
   "cell_type": "markdown",
   "id": "fc33a7fe",
   "metadata": {},
   "source": [
    "Aufgabe 2"
   ]
  },
  {
   "cell_type": "code",
   "execution_count": 4,
   "id": "d34bf9e5",
   "metadata": {},
   "outputs": [
    {
     "name": "stdout",
     "output_type": "stream",
     "text": [
      "Die Zahl ist:  ungerade\n"
     ]
    }
   ],
   "source": [
    " \n",
    "a = int(input(\"Gib eine Zahl ein: \"))\n",
    " \n",
    "print(\"Die Zahl ist: \", \"gerade\" if a % 2 == 0 else \"ungerade\")"
   ]
  },
  {
   "cell_type": "markdown",
   "id": "a62fc679",
   "metadata": {},
   "source": [
    "Aufgabe 3"
   ]
  },
  {
   "cell_type": "markdown",
   "id": "1fb69671",
   "metadata": {},
   "source": [
    "Formel Seitenlänge: m = √((R - r)² + h²)\n",
    "Formel Mantelfläche: A_M = π * m * (R + r)\n"
   ]
  },
  {
   "cell_type": "code",
   "execution_count": 7,
   "id": "15244814",
   "metadata": {},
   "outputs": [
    {
     "name": "stdout",
     "output_type": "stream",
     "text": [
      "Der Flächeninhalt s der Mantelfläche beträgt: 295.042\n"
     ]
    }
   ],
   "source": [
    "import math\n",
    "\n",
    "# Werte für R, r und h definieren\n",
    "R = 10  # Beispielwert für den Radius oben\n",
    "r = 4  # Beispielwert für den Radius unten\n",
    "h = 3  # Beispielwert für die Höhe\n",
    "\n",
    "# Seitenlänge m berechnen\n",
    "m = math.sqrt((R - r)**2 + h**2)\n",
    "\n",
    "# Mantelfläche A_M berechnen\n",
    "A_M = math.pi * m * (R + r)\n",
    "\n",
    "# Flächeninhalt s der Mantelfläche\n",
    "s = round(A_M, 3)\n",
    "print(\"Der Flächeninhalt s der Mantelfläche beträgt:\", s)"
   ]
  }
 ],
 "metadata": {
  "kernelspec": {
   "display_name": ".venv",
   "language": "python",
   "name": "python3"
  },
  "language_info": {
   "codemirror_mode": {
    "name": "ipython",
    "version": 3
   },
   "file_extension": ".py",
   "mimetype": "text/x-python",
   "name": "python",
   "nbconvert_exporter": "python",
   "pygments_lexer": "ipython3",
   "version": "3.9.6"
  }
 },
 "nbformat": 4,
 "nbformat_minor": 5
}
