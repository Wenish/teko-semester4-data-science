{
 "cells": [
  {
   "cell_type": "code",
   "execution_count": 1,
   "id": "f3fc9d73",
   "metadata": {},
   "outputs": [
    {
     "name": "stdout",
     "output_type": "stream",
     "text": [
      "Die Garstufe ist: Rosa (Medium rare)\n"
     ]
    }
   ],
   "source": [
    "# Eingabe der Temperatur\n",
    "temperature = float(input(\"Geben Sie die Temperatur des Steaks in Grad Celsius ein: \"))\n",
    "\n",
    "# Bestimmung der Garstufe\n",
    "if temperature < 45:\n",
    "    garstufe_deutsch = \"Roh\"\n",
    "    garstufe_englisch = \"Raw\"\n",
    "elif 45 <= temperature < 53:\n",
    "    garstufe_deutsch = \"Blutig\"\n",
    "    garstufe_englisch = \"Rare\"\n",
    "elif 53 <= temperature < 57:\n",
    "    garstufe_deutsch = \"Rosa\"\n",
    "    garstufe_englisch = \"Medium rare\"\n",
    "elif 57 <= temperature < 63:\n",
    "    garstufe_deutsch = \"Halb durch\"\n",
    "    garstufe_englisch = \"Medium\"\n",
    "else:\n",
    "    garstufe_deutsch = \"Durch\"\n",
    "    garstufe_englisch = \"Well done\"\n",
    "\n",
    "# Ausgabe der Garstufe\n",
    "print(f\"Die Garstufe ist: {garstufe_deutsch} ({garstufe_englisch})\")"
   ]
  },
  {
   "cell_type": "code",
   "execution_count": 20,
   "id": "8f9b7f26",
   "metadata": {},
   "outputs": [
    {
     "name": "stdout",
     "output_type": "stream",
     "text": [
      "Die Ulam-Folge für die Startzahl 200 ist: [200, 100, 50, 25, 76, 38, 19, 58, 29, 88, 44, 22, 11, 34, 17, 52, 26, 13, 40, 20, 10, 5, 16, 8, 4, 2, 1]\n"
     ]
    }
   ],
   "source": [
    "def ulam_sequence(n):\n",
    "    if n <= 1:\n",
    "        raise ValueError(\"Die Startzahl muss eine natürliche Zahl größer als 1 sein.\")\n",
    "    \n",
    "    sequence = [n]\n",
    "    while n != 1:\n",
    "        if n % 2 == 0:  # n is even\n",
    "            n = n // 2\n",
    "        else:  # n is odd\n",
    "            n = 3 * n + 1\n",
    "        sequence.append(n)\n",
    "    return sequence\n",
    "\n",
    "# Beispielaufruf der Funktion\n",
    "startzahl = int(input(\"Geben Sie eine Startzahl für die Ulam-Folge ein: \"))\n",
    "folge = ulam_sequence(startzahl)\n",
    "print(f\"Die Ulam-Folge für die Startzahl {startzahl} ist: {folge}\")"
   ]
  },
  {
   "cell_type": "markdown",
   "id": "3758ed08",
   "metadata": {},
   "source": [
    "Aufgabe 3 – Schleifen, Summen, Fakultät – Eulersche Zahl\n",
    "\n",
    "Die Eulersche Zahl e kann wie folgt definiert werden:\n",
    "∞\n",
    "a) 𝑒 = ∑ 1\n",
    "0 b) 𝑒 = lim\n",
    "𝑛!\n",
    "𝑛→∞ (1 + 1\n",
    "𝑛)𝑛\n",
    "\n",
    "Erstelle für beide Möglichkeiten ein entsprechendes Programm. Welche Methode\n",
    "konvergiert schneller?"
   ]
  },
  {
   "cell_type": "code",
   "execution_count": 8,
   "id": "c57fcbb4",
   "metadata": {},
   "outputs": [
    {
     "name": "stdout",
     "output_type": "stream",
     "text": [
      "e nach Methode a (Summe, n=100): 2.7182818284590455\n",
      "e nach Methode b (Grenzwert, n=100): 2.7048138294215285\n",
      "math.e (Referenzwert): 2.718281828459045\n"
     ]
    }
   ],
   "source": [
    "import math\n",
    "\n",
    "# Methode a: e als unendliche Summe 1/n!\n",
    "def berechne_e_summe(anzahl_glieder):\n",
    "    e_summe = 0\n",
    "    for n in range(anzahl_glieder):\n",
    "        e_summe += 1 / math.factorial(n)\n",
    "    return e_summe\n",
    "\n",
    "# Methode b: e als Grenzwert (1 + 1/n)^n\n",
    "def berechne_e_grenzwert(n):\n",
    "    return (1 + 1/n) ** n\n",
    "\n",
    "# Beispiel: beide Methoden mit n=10\n",
    "n = 100\n",
    "e_a = berechne_e_summe(n)\n",
    "e_b = berechne_e_grenzwert(n)\n",
    "\n",
    "print(f\"e nach Methode a (Summe, n={n}): {e_a}\")\n",
    "print(f\"e nach Methode b (Grenzwert, n={n}): {e_b}\")\n",
    "print(f\"math.e (Referenzwert): {math.e}\")"
   ]
  },
  {
   "cell_type": "markdown",
   "id": "0ba552d7",
   "metadata": {},
   "source": [
    "Aufgabe 4 – Schleifen, Funktionen, Rekursion\n",
    "\n",
    "Die in der vorherigen Aufgabe benötigte Fakultäts-Funktion können wir auch ohne\n",
    "Fremdmittel realisieren. Eine Möglichkeit ist iterativ mit einer Schleife und die andere ist\n",
    "rekursiv mit einer Funktion. Erstelle für beide Varianten ein Python-Programm. Die einfachste\n",
    "Variante basiert auf dem Befehl «factorial» aus der Bibliothek «math»."
   ]
  },
  {
   "cell_type": "code",
   "execution_count": 11,
   "id": "5619fd6e",
   "metadata": {},
   "outputs": [
    {
     "name": "stdout",
     "output_type": "stream",
     "text": [
      "Fakultät von 5 (iterativ): 120\n",
      "Fakultät von 5 (rekursiv): 120\n",
      "Fakultät von 5 (math.factorial): 120\n"
     ]
    }
   ],
   "source": [
    "# Iterative Berechnung der Fakultät\n",
    "def fakultaet_iterativ(n):\n",
    "    ergebnis = 1\n",
    "    for i in range(2, n + 1):\n",
    "        ergebnis *= i\n",
    "    return ergebnis\n",
    "\n",
    "# Rekursive Berechnung der Fakultät\n",
    "def fakultaet_rekursiv(n):\n",
    "    if n == 0 or n == 1:\n",
    "        return 1\n",
    "    else:\n",
    "        return n * fakultaet_rekursiv(n - 1)\n",
    "\n",
    "# Beispielaufrufe\n",
    "zahl = 5\n",
    "print(f\"Fakultät von {zahl} (iterativ): {fakultaet_iterativ(zahl)}\")\n",
    "print(f\"Fakultät von {zahl} (rekursiv): {fakultaet_rekursiv(zahl)}\")\n",
    "print(f\"Fakultät von {zahl} (math.factorial): {math.factorial(zahl)}\")"
   ]
  }
 ],
 "metadata": {
  "kernelspec": {
   "display_name": ".venv",
   "language": "python",
   "name": "python3"
  },
  "language_info": {
   "codemirror_mode": {
    "name": "ipython",
    "version": 3
   },
   "file_extension": ".py",
   "mimetype": "text/x-python",
   "name": "python",
   "nbconvert_exporter": "python",
   "pygments_lexer": "ipython3",
   "version": "3.9.6"
  }
 },
 "nbformat": 4,
 "nbformat_minor": 5
}
