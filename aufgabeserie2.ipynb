{
 "cells": [
  {
   "cell_type": "code",
   "execution_count": 1,
   "id": "f3fc9d73",
   "metadata": {},
   "outputs": [
    {
     "name": "stdout",
     "output_type": "stream",
     "text": [
      "Die Garstufe ist: Rosa (Medium rare)\n"
     ]
    }
   ],
   "source": [
    "# Eingabe der Temperatur\n",
    "temperature = float(input(\"Geben Sie die Temperatur des Steaks in Grad Celsius ein: \"))\n",
    "\n",
    "# Bestimmung der Garstufe\n",
    "if temperature < 45:\n",
    "    garstufe_deutsch = \"Roh\"\n",
    "    garstufe_englisch = \"Raw\"\n",
    "elif 45 <= temperature < 53:\n",
    "    garstufe_deutsch = \"Blutig\"\n",
    "    garstufe_englisch = \"Rare\"\n",
    "elif 53 <= temperature < 57:\n",
    "    garstufe_deutsch = \"Rosa\"\n",
    "    garstufe_englisch = \"Medium rare\"\n",
    "elif 57 <= temperature < 63:\n",
    "    garstufe_deutsch = \"Halb durch\"\n",
    "    garstufe_englisch = \"Medium\"\n",
    "else:\n",
    "    garstufe_deutsch = \"Durch\"\n",
    "    garstufe_englisch = \"Well done\"\n",
    "\n",
    "# Ausgabe der Garstufe\n",
    "print(f\"Die Garstufe ist: {garstufe_deutsch} ({garstufe_englisch})\")"
   ]
  },
  {
   "cell_type": "code",
   "execution_count": 20,
   "id": "8f9b7f26",
   "metadata": {},
   "outputs": [
    {
     "name": "stdout",
     "output_type": "stream",
     "text": [
      "Die Ulam-Folge für die Startzahl 200 ist: [200, 100, 50, 25, 76, 38, 19, 58, 29, 88, 44, 22, 11, 34, 17, 52, 26, 13, 40, 20, 10, 5, 16, 8, 4, 2, 1]\n"
     ]
    }
   ],
   "source": [
    "def ulam_sequence(n):\n",
    "    if n <= 1:\n",
    "        raise ValueError(\"Die Startzahl muss eine natürliche Zahl größer als 1 sein.\")\n",
    "    \n",
    "    sequence = [n]\n",
    "    while n != 1:\n",
    "        if n % 2 == 0:  # n is even\n",
    "            n = n // 2\n",
    "        else:  # n is odd\n",
    "            n = 3 * n + 1\n",
    "        sequence.append(n)\n",
    "    return sequence\n",
    "\n",
    "# Beispielaufruf der Funktion\n",
    "startzahl = int(input(\"Geben Sie eine Startzahl für die Ulam-Folge ein: \"))\n",
    "folge = ulam_sequence(startzahl)\n",
    "print(f\"Die Ulam-Folge für die Startzahl {startzahl} ist: {folge}\")"
   ]
  },
  {
   "cell_type": "markdown",
   "id": "3758ed08",
   "metadata": {},
   "source": [
    "Aufgabe 3 – Schleifen, Summen, Fakultät – Eulersche Zahl\n",
    "\n",
    "Die Eulersche Zahl e kann wie folgt definiert werden:\n",
    "∞\n",
    "a) 𝑒 = ∑ 1\n",
    "0 b) 𝑒 = lim\n",
    "𝑛!\n",
    "𝑛→∞ (1 + 1\n",
    "𝑛)𝑛\n",
    "\n",
    "Erstelle für beide Möglichkeiten ein entsprechendes Programm. Welche Methode\n",
    "konvergiert schneller?"
   ]
  },
  {
   "cell_type": "code",
   "execution_count": 8,
   "id": "c57fcbb4",
   "metadata": {},
   "outputs": [
    {
     "name": "stdout",
     "output_type": "stream",
     "text": [
      "e nach Methode a (Summe, n=100): 2.7182818284590455\n",
      "e nach Methode b (Grenzwert, n=100): 2.7048138294215285\n",
      "math.e (Referenzwert): 2.718281828459045\n"
     ]
    }
   ],
   "source": [
    "import math\n",
    "\n",
    "# Methode a: e als unendliche Summe 1/n!\n",
    "def berechne_e_summe(anzahl_glieder):\n",
    "    e_summe = 0\n",
    "    for n in range(anzahl_glieder):\n",
    "        e_summe += 1 / math.factorial(n)\n",
    "    return e_summe\n",
    "\n",
    "# Methode b: e als Grenzwert (1 + 1/n)^n\n",
    "def berechne_e_grenzwert(n):\n",
    "    return (1 + 1/n) ** n\n",
    "\n",
    "# Beispiel: beide Methoden mit n=10\n",
    "n = 100\n",
    "e_a = berechne_e_summe(n)\n",
    "e_b = berechne_e_grenzwert(n)\n",
    "\n",
    "print(f\"e nach Methode a (Summe, n={n}): {e_a}\")\n",
    "print(f\"e nach Methode b (Grenzwert, n={n}): {e_b}\")\n",
    "print(f\"math.e (Referenzwert): {math.e}\")"
   ]
  },
  {
   "cell_type": "markdown",
   "id": "0ba552d7",
   "metadata": {},
   "source": [
    "Aufgabe 4 – Schleifen, Funktionen, Rekursion\n",
    "\n",
    "Die in der vorherigen Aufgabe benötigte Fakultäts-Funktion können wir auch ohne\n",
    "Fremdmittel realisieren. Eine Möglichkeit ist iterativ mit einer Schleife und die andere ist\n",
    "rekursiv mit einer Funktion. Erstelle für beide Varianten ein Python-Programm. Die einfachste\n",
    "Variante basiert auf dem Befehl «factorial» aus der Bibliothek «math»."
   ]
  },
  {
   "cell_type": "code",
   "execution_count": 11,
   "id": "5619fd6e",
   "metadata": {},
   "outputs": [
    {
     "name": "stdout",
     "output_type": "stream",
     "text": [
      "Fakultät von 5 (iterativ): 120\n",
      "Fakultät von 5 (rekursiv): 120\n",
      "Fakultät von 5 (math.factorial): 120\n"
     ]
    }
   ],
   "source": [
    "# Iterative Berechnung der Fakultät\n",
    "def fakultaet_iterativ(n):\n",
    "    ergebnis = 1\n",
    "    for i in range(2, n + 1):\n",
    "        ergebnis *= i\n",
    "    return ergebnis\n",
    "\n",
    "# Rekursive Berechnung der Fakultät\n",
    "def fakultaet_rekursiv(n):\n",
    "    if n == 0 or n == 1:\n",
    "        return 1\n",
    "    else:\n",
    "        return n * fakultaet_rekursiv(n - 1)\n",
    "\n",
    "# Beispielaufrufe\n",
    "zahl = 5\n",
    "print(f\"Fakultät von {zahl} (iterativ): {fakultaet_iterativ(zahl)}\")\n",
    "print(f\"Fakultät von {zahl} (rekursiv): {fakultaet_rekursiv(zahl)}\")\n",
    "print(f\"Fakultät von {zahl} (math.factorial): {math.factorial(zahl)}\")"
   ]
  },
  {
   "cell_type": "markdown",
   "id": "9632da9f",
   "metadata": {},
   "source": [
    "Aufgabe 5 – Funktionen, Lambda-Funktion, Filter\n",
    "\n",
    "a) Definiere in Python zwei Funktion, welche zwei einzugebende Zahlen miteinander\n",
    "addiert respektive multipliziert und die Resultate ausgibt."
   ]
  },
  {
   "cell_type": "code",
   "execution_count": 12,
   "id": "48de194d",
   "metadata": {},
   "outputs": [
    {
     "name": "stdout",
     "output_type": "stream",
     "text": [
      "Die Summe von 3 und 4 ist: 7\n",
      "Das Produkt von 3 und 4 ist: 12\n"
     ]
    },
    {
     "data": {
      "text/plain": [
       "12"
      ]
     },
     "execution_count": 12,
     "metadata": {},
     "output_type": "execute_result"
    }
   ],
   "source": [
    "def addiere(a, b):\n",
    "    ergebnis = a + b\n",
    "    print(f\"Die Summe von {a} und {b} ist: {ergebnis}\")\n",
    "    return ergebnis\n",
    "\n",
    "def multipliziere(a, b):\n",
    "    ergebnis = a * b\n",
    "    print(f\"Das Produkt von {a} und {b} ist: {ergebnis}\")\n",
    "    return ergebnis\n",
    "\n",
    "# Beispielaufrufe\n",
    "addiere(3, 4)\n",
    "multipliziere(3, 4)"
   ]
  },
  {
   "cell_type": "markdown",
   "id": "7b367509",
   "metadata": {},
   "source": [
    "b) Analog a) aber die Funktionen sollen die Resultate als Rückgabewerte zurückgeben und\n",
    "anschliessend vom Hauptprogramm ausgegeben werden."
   ]
  },
  {
   "cell_type": "code",
   "execution_count": 14,
   "id": "7f9a661c",
   "metadata": {},
   "outputs": [
    {
     "name": "stdout",
     "output_type": "stream",
     "text": [
      "Die Summe von 3 und 4 ist: 7\n",
      "Das Produkt von 3 und 4 ist: 12\n"
     ]
    }
   ],
   "source": [
    "def addiere_return(a, b):\n",
    "    return a + b\n",
    "\n",
    "def multipliziere_return(a, b):\n",
    "    return a * b\n",
    "\n",
    "# Beispielaufrufe und Ausgabe der Resultate\n",
    "summe = addiere_return(3, 4)\n",
    "produkt = multipliziere_return(3, 4)\n",
    "print(f\"Die Summe von 3 und 4 ist: {summe}\")\n",
    "print(f\"Das Produkt von 3 und 4 ist: {produkt}\")"
   ]
  },
  {
   "cell_type": "markdown",
   "id": "054fd38b",
   "metadata": {},
   "source": [
    "c) Manchmal ist es von Vorteil, wenn eine Funktion nicht via Definition bereitgestellt\n",
    "werden muss, sondern einfach einmalig verwendet werden kann. Es soll eine Lambda-\n",
    "Funktion erstellt werden, welche prüft, ob eine Zahl durch 3 teilbar ist oder nicht. Diese\n",
    "soll dann in Anwendung mit einem Filter, alle durch drei teilbaren Zahlen ausgeben."
   ]
  },
  {
   "cell_type": "code",
   "execution_count": 13,
   "id": "501be076",
   "metadata": {},
   "outputs": [
    {
     "name": "stdout",
     "output_type": "stream",
     "text": [
      "Alle durch 3 teilbaren Zahlen von 1 bis 20: [3, 6, 9, 12, 15, 18]\n"
     ]
    }
   ],
   "source": [
    "# Liste von Zahlen zum Testen\n",
    "zahlen_liste = list(range(1, 21))\n",
    "\n",
    "# Lambda-Funktion zur Prüfung auf Teilbarkeit durch 3\n",
    "teilbar_durch_drei = lambda x: x % 3 == 0\n",
    "\n",
    "# Filter anwenden, um alle durch 3 teilbaren Zahlen zu erhalten\n",
    "durch_drei_teilbar = list(filter(teilbar_durch_drei, zahlen_liste))\n",
    "\n",
    "print(f\"Alle durch 3 teilbaren Zahlen von 1 bis 20: {durch_drei_teilbar}\")"
   ]
  },
  {
   "cell_type": "markdown",
   "id": "bd37c048",
   "metadata": {},
   "source": [
    "d) Die Fibonacci-Zahlen beginnen wie folgt: 0, 1, 1, 2, 3, 5, 8, 13, … Die nächste Zahl ist\n",
    "jeweils die Summe der beiden vorangehenden Zahlen. Erstelle ein Python-Programm,\n",
    "welches dir alle Fibonacci-Zahlen bis zu einer einzugebenden, oberen Grenze berechnet.\n",
    "Welche Möglichkeiten kennst du?"
   ]
  },
  {
   "cell_type": "code",
   "execution_count": 16,
   "id": "b3ab036c",
   "metadata": {},
   "outputs": [
    {
     "name": "stdout",
     "output_type": "stream",
     "text": [
      "Fibonacci-Zahlen bis 1000 (iterativ): [0, 1, 1, 2, 3, 5, 8, 13, 21, 34, 55, 89, 144, 233, 377, 610, 987]\n",
      "Fibonacci-Zahlen bis 1000 (rekursiv): [0, 1, 1, 2, 3, 5, 8, 13, 21, 34, 55, 89, 144, 233, 377, 610, 987]\n"
     ]
    }
   ],
   "source": [
    "# Möglichkeit 1: Iterative Berechnung der Fibonacci-Zahlen bis zur oberen Grenze\n",
    "def fibonacci_iterativ(grenze):\n",
    "    fib_liste = [0, 1]\n",
    "    while True:\n",
    "        naechste_zahl = fib_liste[-1] + fib_liste[-2]\n",
    "        if naechste_zahl > grenze:\n",
    "            break\n",
    "        fib_liste.append(naechste_zahl)\n",
    "    return fib_liste\n",
    "\n",
    "# Möglichkeit 2: Rekursive Berechnung (weniger effizient, aber möglich)\n",
    "def fibonacci_rekursiv(grenze, a=0, b=1, fib_liste=None):\n",
    "    if fib_liste is None:\n",
    "        fib_liste = [a]\n",
    "    if b > grenze:\n",
    "        return fib_liste\n",
    "    fib_liste.append(b)\n",
    "    return fibonacci_rekursiv(grenze, b, a + b, fib_liste)\n",
    "\n",
    "# Beispielaufruf\n",
    "obere_grenze = int(input(\"Gib die obere Grenze für die Fibonacci-Zahlen ein: \"))\n",
    "fib_iterativ = fibonacci_iterativ(obere_grenze)\n",
    "fib_rekursiv = fibonacci_rekursiv(obere_grenze)\n",
    "\n",
    "print(f\"Fibonacci-Zahlen bis {obere_grenze} (iterativ): {fib_iterativ}\")\n",
    "print(f\"Fibonacci-Zahlen bis {obere_grenze} (rekursiv): {fib_rekursiv}\")"
   ]
  },
  {
   "cell_type": "markdown",
   "id": "21a25bdc",
   "metadata": {},
   "source": [
    "Aufgabe 6 – Tupel, Zufallszahlen\n",
    "\n",
    "Ein Tupel ist eine Sequenz von Elementen, die iterierbar sind, aber nicht verändert werden\n",
    "können. Es soll mit Hilfe eines Tupels eine Würfelsimulation realisiert werden. Es sollen drei\n",
    "Würfel mit den möglichen Augenzahlen 1 bis 6 «geworfen» werden können. Diese drei\n",
    "Würfel sollen als Tupel gespeichert werden. Erstelle ein solches Programm, welche folgende\n",
    "\n",
    "Ausgabe (einmaliges Würfeln) generiert:\n",
    "• Würfel A: 5\n",
    "• Würfel B: 3\n",
    "• Würfel C: 4\n",
    "\n",
    "Die Werte können natürlich abweichen."
   ]
  },
  {
   "cell_type": "code",
   "execution_count": 22,
   "id": "bd7d43ca",
   "metadata": {},
   "outputs": [
    {
     "name": "stdout",
     "output_type": "stream",
     "text": [
      "Würfel A: 5\n",
      "Würfel B: 2\n",
      "Würfel C: 5\n"
     ]
    }
   ],
   "source": [
    "import random\n",
    "\n",
    "# Drei Würfel werfen und als Tupel speichern\n",
    "wuerfel = (random.randint(1, 6), random.randint(1, 6), random.randint(1, 6))\n",
    "\n",
    "# Ausgabe der Würfelergebnisse\n",
    "print(f\"Würfel A: {wuerfel[0]}\")\n",
    "print(f\"Würfel B: {wuerfel[1]}\")\n",
    "print(f\"Würfel C: {wuerfel[2]}\")"
   ]
  },
  {
   "cell_type": "markdown",
   "id": "1b1aa99a",
   "metadata": {},
   "source": [
    "Aufgabe 7 – Schleifen, Funktionen\n",
    "\n",
    "Erstelle ein Pythonprogramm, mit welchem du eine Wertetabelle mit einer beliebigen Anzahl\n",
    "(n) x- und y-Werten erstellen kannst. Die Funktionsgleichung lautet: 𝑓(𝑥) = 𝑥2\n",
    ". Benutze dazu\n",
    "das Modul «numpy» und die Befehle: linspace oder arange."
   ]
  },
  {
   "cell_type": "code",
   "execution_count": null,
   "id": "58e9bbee",
   "metadata": {},
   "outputs": [
    {
     "name": "stdout",
     "output_type": "stream",
     "text": [
      "[ 0.   2.5  5.   7.5 10. ]\n",
      "x\tf(x)=x^2\n",
      "0.00\t0.00\n",
      "2.50\t6.25\n",
      "5.00\t25.00\n",
      "7.50\t56.25\n",
      "10.00\t100.00\n"
     ]
    },
    {
     "data": {
      "text/plain": [
       "(array([ 0. ,  2.5,  5. ,  7.5, 10. ]),\n",
       " array([  0.  ,   6.25,  25.  ,  56.25, 100.  ]))"
      ]
     },
     "execution_count": 28,
     "metadata": {},
     "output_type": "execute_result"
    }
   ],
   "source": [
    "import numpy as np\n",
    "\n",
    "def wertetabelle_f_x2(start, stop, anzahl_werte):\n",
    "    x_werte = np.linspace(start, stop, anzahl_werte)\n",
    "    print(x_werte + 'test')\n",
    "    y_werte = x_werte ** 2\n",
    "    print(\"x\\tf(x)=x^2\")\n",
    "    for x, y in zip(x_werte, y_werte):\n",
    "        print(f\"{x:.2f}\\t{y:.2f}\")\n",
    "    return x_werte, y_werte\n",
    "\n",
    "# Beispielaufruf\n",
    "wertetabelle_f_x2(0, 10, 5)"
   ]
  }
 ],
 "metadata": {
  "kernelspec": {
   "display_name": ".venv",
   "language": "python",
   "name": "python3"
  },
  "language_info": {
   "codemirror_mode": {
    "name": "ipython",
    "version": 3
   },
   "file_extension": ".py",
   "mimetype": "text/x-python",
   "name": "python",
   "nbconvert_exporter": "python",
   "pygments_lexer": "ipython3",
   "version": "3.9.6"
  }
 },
 "nbformat": 4,
 "nbformat_minor": 5
}
