{
 "cells": [
  {
   "cell_type": "code",
   "execution_count": 1,
   "id": "f3fc9d73",
   "metadata": {},
   "outputs": [
    {
     "name": "stdout",
     "output_type": "stream",
     "text": [
      "Die Garstufe ist: Rosa (Medium rare)\n"
     ]
    }
   ],
   "source": [
    "# Eingabe der Temperatur\n",
    "temperature = float(input(\"Geben Sie die Temperatur des Steaks in Grad Celsius ein: \"))\n",
    "\n",
    "# Bestimmung der Garstufe\n",
    "if temperature < 45:\n",
    "    garstufe_deutsch = \"Roh\"\n",
    "    garstufe_englisch = \"Raw\"\n",
    "elif 45 <= temperature < 53:\n",
    "    garstufe_deutsch = \"Blutig\"\n",
    "    garstufe_englisch = \"Rare\"\n",
    "elif 53 <= temperature < 57:\n",
    "    garstufe_deutsch = \"Rosa\"\n",
    "    garstufe_englisch = \"Medium rare\"\n",
    "elif 57 <= temperature < 63:\n",
    "    garstufe_deutsch = \"Halb durch\"\n",
    "    garstufe_englisch = \"Medium\"\n",
    "else:\n",
    "    garstufe_deutsch = \"Durch\"\n",
    "    garstufe_englisch = \"Well done\"\n",
    "\n",
    "# Ausgabe der Garstufe\n",
    "print(f\"Die Garstufe ist: {garstufe_deutsch} ({garstufe_englisch})\")"
   ]
  },
  {
   "cell_type": "code",
   "execution_count": 20,
   "id": "8f9b7f26",
   "metadata": {},
   "outputs": [
    {
     "name": "stdout",
     "output_type": "stream",
     "text": [
      "Die Ulam-Folge für die Startzahl 200 ist: [200, 100, 50, 25, 76, 38, 19, 58, 29, 88, 44, 22, 11, 34, 17, 52, 26, 13, 40, 20, 10, 5, 16, 8, 4, 2, 1]\n"
     ]
    }
   ],
   "source": [
    "def ulam_sequence(n):\n",
    "    if n <= 1:\n",
    "        raise ValueError(\"Die Startzahl muss eine natürliche Zahl größer als 1 sein.\")\n",
    "    \n",
    "    sequence = [n]\n",
    "    while n != 1:\n",
    "        if n % 2 == 0:  # n is even\n",
    "            n = n // 2\n",
    "        else:  # n is odd\n",
    "            n = 3 * n + 1\n",
    "        sequence.append(n)\n",
    "    return sequence\n",
    "\n",
    "# Beispielaufruf der Funktion\n",
    "startzahl = int(input(\"Geben Sie eine Startzahl für die Ulam-Folge ein: \"))\n",
    "folge = ulam_sequence(startzahl)\n",
    "print(f\"Die Ulam-Folge für die Startzahl {startzahl} ist: {folge}\")"
   ]
  }
 ],
 "metadata": {
  "kernelspec": {
   "display_name": ".venv",
   "language": "python",
   "name": "python3"
  },
  "language_info": {
   "codemirror_mode": {
    "name": "ipython",
    "version": 3
   },
   "file_extension": ".py",
   "mimetype": "text/x-python",
   "name": "python",
   "nbconvert_exporter": "python",
   "pygments_lexer": "ipython3",
   "version": "3.9.6"
  }
 },
 "nbformat": 4,
 "nbformat_minor": 5
}
