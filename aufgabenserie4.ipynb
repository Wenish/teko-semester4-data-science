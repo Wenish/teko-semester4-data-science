{
 "cells": [
  {
   "cell_type": "markdown",
   "id": "c432a906",
   "metadata": {},
   "source": [
    "Übungsserie 4: 22.05.2025\n",
    "\n",
    "Thema «Python lernen» - Grundlagen, einfache Algorithmen und Statistik"
   ]
  },
  {
   "cell_type": "markdown",
   "id": "18f916f5",
   "metadata": {},
   "source": [
    "Aufgabe 1 – Daten visualisieren - Balkendiagramme\n",
    "\n",
    "Es soll der Kaffeekonsum grafisch dargestellt werden. Dabei soll ein Balkendiagramm\n",
    "angewendet werden. Die Daten lauten wie folgt: Christian:7, Dres:11, Fabian:3, Jerom:5, Roy:2, Shan:2, Thomas:9. Die Zahl nach dem Doppelpunkt bedeutet die konsumierte\n",
    "Portionenmenge Kaffee.\n",
    "\n",
    "a) Erstelle ein Python-Programm, welches dir diese daten visuell darstellt."
   ]
  },
  {
   "cell_type": "code",
   "execution_count": 375,
   "id": "7f8e9c83",
   "metadata": {},
   "outputs": [
    {
     "data": {
      "image/png": "[encoded data removed]",
      "text/plain": [
       "<Figure size 640x480 with 1 Axes>"
      ]
     },
     "metadata": {},
     "output_type": "display_data"
    }
   ],
   "source": [
    "import matplotlib.pyplot as plt\n",
    "\n",
    "# Daten\n",
    "namen = ['Christian', 'Dres', 'Fabian', 'Jerom', 'Roy', 'Shan', 'Thomas']\n",
    "kaffee = [7, 11, 3, 5, 2, 2, 9]\n",
    "\n",
    "# Balkendiagramm erstellen\n",
    "plt.bar(namen, kaffee)\n",
    "plt.xlabel('Personen')\n",
    "plt.ylabel('Kaffeekonsum')\n",
    "plt.title('Kaffeekonsum pro Person')\n",
    "plt.show()"
   ]
  },
  {
   "cell_type": "markdown",
   "id": "7675a3b3",
   "metadata": {},
   "source": [
    "b) Berechne die Lage- (Arithmetischer Mittelwert, Median) und Streumasse (Spannweite, Standardabweichung."
   ]
  },
  {
   "cell_type": "code",
   "execution_count": 376,
   "id": "6771811d",
   "metadata": {},
   "outputs": [
    {
     "name": "stdout",
     "output_type": "stream",
     "text": [
      "Arithmetischer Mittelwert: 5.571428571428571\n",
      "Median: 5.0\n",
      "Spannweite: 9\n",
      "Standardabweichung: 3.2888184094918107\n"
     ]
    }
   ],
   "source": [
    "import numpy as np\n",
    "\n",
    "# Arithmetischer Mittelwert\n",
    "mittelwert = np.mean(kaffee)\n",
    "\n",
    "# Median\n",
    "median = np.median(kaffee)\n",
    "\n",
    "# Spannweite\n",
    "spannweite = np.max(kaffee) - np.min(kaffee)\n",
    "\n",
    "# Standardabweichung\n",
    "standardabweichung = np.std(kaffee, ddof=0)\n",
    "\n",
    "print(f\"Arithmetischer Mittelwert: {mittelwert}\")\n",
    "print(f\"Median: {median}\")\n",
    "print(f\"Spannweite: {spannweite}\")\n",
    "print(f\"Standardabweichung: {standardabweichung}\")"
   ]
  },
  {
   "cell_type": "markdown",
   "id": "f13ac7b1",
   "metadata": {},
   "source": [
    "Aufgabe 2 – Daten auswerten und vergleichen (AM / Median), Ausreisser\n",
    "\n",
    "Es soll der Einfluss eines sogenannten «Ausreissers» festgestellt werden.\n",
    "Die Daten lauten wie folgt: [8.04, 6.95, 7.58, 8.81, 8.33, 9.96, 7.24, 4.26, 10.84, 4.82, 5.68].\n",
    "\n",
    "a) Berechne mit Hilfe des Moduls «statistics» das arithmetische Mittel und den Median."
   ]
  },
  {
   "cell_type": "code",
   "execution_count": 377,
   "id": "f80e6afb",
   "metadata": {},
   "outputs": [],
   "source": [
    "example_data = [8.04, 6.95, 7.58, 8.81, 8.33, 9.96, 7.24, 4.26, 10.84, 4.82, 5.68]"
   ]
  },
  {
   "cell_type": "code",
   "execution_count": 378,
   "id": "fb110a23",
   "metadata": {},
   "outputs": [
    {
     "name": "stdout",
     "output_type": "stream",
     "text": [
      "Arithmetisches Mittel: 7.500909090909091\n",
      "Median: 7.58\n"
     ]
    }
   ],
   "source": [
    "import statistics\n",
    "\n",
    "arith_mittel = statistics.mean(example_data)\n",
    "median_wert = statistics.median(example_data)\n",
    "\n",
    "print(f\"Arithmetisches Mittel: {arith_mittel}\")\n",
    "print(f\"Median: {median_wert}\")"
   ]
  },
  {
   "cell_type": "markdown",
   "id": "aa37976f",
   "metadata": {},
   "source": [
    "b) Jetzt fügst du den Daten einen weiteren Wert «100.0» dazu und berechnest wiederum das\n",
    "arithmetische Mittel und den Median."
   ]
  },
  {
   "cell_type": "code",
   "execution_count": 379,
   "id": "9c078306",
   "metadata": {},
   "outputs": [
    {
     "name": "stdout",
     "output_type": "stream",
     "text": [
      "Arithmetisches Mittel mit Ausreißer: 15.209166666666667\n",
      "Median mit Ausreißer: 7.81\n"
     ]
    }
   ],
   "source": [
    "# Neuen Wert hinzufügen\n",
    "example_data_mit_ausreisser = example_data + [100.0]\n",
    "\n",
    "# Arithmetisches Mittel und Median berechnen\n",
    "arith_mittel_ausreisser = statistics.mean(example_data_mit_ausreisser)\n",
    "median_ausreisser = statistics.median(example_data_mit_ausreisser)\n",
    "\n",
    "print(f\"Arithmetisches Mittel mit Ausreißer: {arith_mittel_ausreisser}\")\n",
    "print(f\"Median mit Ausreißer: {median_ausreisser}\")"
   ]
  },
  {
   "cell_type": "markdown",
   "id": "b3292830",
   "metadata": {},
   "source": [
    "c) Was stellst du beim Vergleich fest?"
   ]
  },
  {
   "cell_type": "code",
   "execution_count": 380,
   "id": "8e2097d1",
   "metadata": {},
   "outputs": [
    {
     "name": "stdout",
     "output_type": "stream",
     "text": [
      "Arithmetisches Mittel ohne Ausreißer: 7.50\n",
      "Arithmetisches Mittel mit Ausreißer: 15.21\n",
      "Median ohne Ausreißer: 7.58\n",
      "Median mit Ausreißer: 7.81\n",
      "\n",
      "Fazit:\n",
      "Das arithmetische Mittel wird durch den Ausreißer stark nach oben beeinflusst, während der Median nur geringfügig steigt. Der Median ist somit robuster gegenüber Ausreißern als das arithmetische Mittel.\n"
     ]
    }
   ],
   "source": [
    "# Vergleich der Kennzahlen mit und ohne Ausreißer\n",
    "print(f\"Arithmetisches Mittel ohne Ausreißer: {arith_mittel:.2f}\")\n",
    "print(f\"Arithmetisches Mittel mit Ausreißer: {arith_mittel_ausreisser:.2f}\")\n",
    "print(f\"Median ohne Ausreißer: {median_wert:.2f}\")\n",
    "print(f\"Median mit Ausreißer: {median_ausreisser:.2f}\")\n",
    "\n",
    "print(\"\\nFazit:\")\n",
    "print(\"Das arithmetische Mittel wird durch den Ausreißer stark nach oben beeinflusst, während der Median nur geringfügig steigt. Der Median ist somit robuster gegenüber Ausreißern als das arithmetische Mittel.\")"
   ]
  },
  {
   "cell_type": "markdown",
   "id": "dfda25f4",
   "metadata": {},
   "source": [
    "Aufgabe 3 – Daten auswerten und vergleichen (Stand.Abw. / IQR)\n",
    "\n",
    "Es soll der Einfluss eines sogenannten «Ausreissers» festgestellt werden. Die Daten lauten wie\n",
    "folgt: [8.04, 6.95, 7.58, 8.81, 8.33, 9.96, 7.24, 4.26, 10.84, 4.82, 5.68].\n",
    "\n",
    "a) Berechne mit Hilfe des Moduls «statistics» die Standardabweichung und den\n",
    "Interquartilsabstand (IQA oder IQR). Dazu kannst du auf das Modul «scipy» zurückgreifen."
   ]
  },
  {
   "cell_type": "code",
   "execution_count": 381,
   "id": "eaf5a35c",
   "metadata": {},
   "outputs": [
    {
     "name": "stdout",
     "output_type": "stream",
     "text": [
      "Standardabweichung: 2.031568135925815\n",
      "Interquartilsabstand (IQR): 2.255000000000001\n"
     ]
    }
   ],
   "source": [
    "from scipy import stats\n",
    "import statistics\n",
    "\n",
    "# Standardabweichung berechnen\n",
    "std_example = statistics.stdev(example_data)\n",
    "\n",
    "# Interquartilsabstand (IQR) berechnen\n",
    "iqr_example = stats.iqr(example_data)\n",
    "\n",
    "print(f\"Standardabweichung: {std_example}\")\n",
    "print(f\"Interquartilsabstand (IQR): {iqr_example}\")"
   ]
  },
  {
   "cell_type": "markdown",
   "id": "8e12d110",
   "metadata": {},
   "source": [
    "b) Jetzt fügst du den Daten einen weiteren Wert «100.0» dazu und berechnest wiederum das\n",
    "arithmetische Mittel und den Median."
   ]
  },
  {
   "cell_type": "code",
   "execution_count": 382,
   "id": "98ac7b22",
   "metadata": {},
   "outputs": [
    {
     "name": "stdout",
     "output_type": "stream",
     "text": [
      "Standardabweichung mit Ausreißer: 26.77235292350312\n",
      "Interquartilsabstand (IQR) mit Ausreißer: 2.465\n"
     ]
    }
   ],
   "source": [
    "# Standardabweichung und Interquartilsabstand (IQR) mit Ausreißer berechnen\n",
    "std_example_ausreisser = statistics.stdev(example_data_mit_ausreisser)\n",
    "iqr_example_ausreisser = stats.iqr(example_data_mit_ausreisser)\n",
    "\n",
    "print(f\"Standardabweichung mit Ausreißer: {std_example_ausreisser}\")\n",
    "print(f\"Interquartilsabstand (IQR) mit Ausreißer: {iqr_example_ausreisser}\")"
   ]
  },
  {
   "cell_type": "markdown",
   "id": "96cd979f",
   "metadata": {},
   "source": [
    "c) Was stellst du beim Vergleich fest?"
   ]
  },
  {
   "cell_type": "code",
   "execution_count": 383,
   "id": "76f6a907",
   "metadata": {},
   "outputs": [
    {
     "name": "stdout",
     "output_type": "stream",
     "text": [
      "Standardabweichung ohne Ausreißer: 2.03\n",
      "Standardabweichung mit Ausreißer: 26.77\n",
      "IQR ohne Ausreißer: 2.26\n",
      "IQR mit Ausreißer: 2.46\n",
      "\n",
      "Fazit:\n",
      "Die Standardabweichung wird durch den Ausreißer stark erhöht, während der IQR (Interquartilsabstand) nur geringfügig beeinflusst wird. Der IQR ist somit robuster gegenüber Ausreißern als die Standardabweichung.\n"
     ]
    }
   ],
   "source": [
    "# Vergleich der Streuungsmaße mit und ohne Ausreißer\n",
    "print(f\"Standardabweichung ohne Ausreißer: {std_example:.2f}\")\n",
    "print(f\"Standardabweichung mit Ausreißer: {std_example_ausreisser:.2f}\")\n",
    "print(f\"IQR ohne Ausreißer: {iqr_example:.2f}\")\n",
    "print(f\"IQR mit Ausreißer: {iqr_example_ausreisser:.2f}\")\n",
    "\n",
    "print(\"\\nFazit:\")\n",
    "print(\"Die Standardabweichung wird durch den Ausreißer stark erhöht, während der IQR (Interquartilsabstand) nur geringfügig beeinflusst wird. Der IQR ist somit robuster gegenüber Ausreißern als die Standardabweichung.\")"
   ]
  },
  {
   "cell_type": "markdown",
   "id": "d1e003ba",
   "metadata": {},
   "source": [
    "d) Boxplot je Datensätze"
   ]
  },
  {
   "cell_type": "code",
   "execution_count": 384,
   "id": "9035a196",
   "metadata": {},
   "outputs": [
    {
     "name": "stderr",
     "output_type": "stream",
     "text": [
      "/var/folders/6f/9j5b578s609f0xtyfj3rrmvw0000gn/T/ipykernel_48948/2813590152.py:3: MatplotlibDeprecationWarning: The 'labels' parameter of boxplot() has been renamed 'tick_labels' since Matplotlib 3.9; support for the old name will be dropped in 3.11.\n",
      "  plt.boxplot([example_data, example_data_mit_ausreisser], labels=['ohne Ausreißer', 'mit Ausreißer'])\n"
     ]
    },
    {
     "data": {
      "image/png": "[encoded data removed]",
      "text/plain": [
       "<Figure size 400x500 with 1 Axes>"
      ]
     },
     "metadata": {},
     "output_type": "display_data"
    }
   ],
   "source": [
    "# Boxplots für beide Datensätze erstellen\n",
    "plt.figure(figsize=(4, 5))\n",
    "plt.boxplot([example_data, example_data_mit_ausreisser], labels=['ohne Ausreißer', 'mit Ausreißer'])\n",
    "plt.ylabel('Werte')\n",
    "plt.title('Boxplot: Vergleich ohne/mit Ausreißer')\n",
    "plt.show()"
   ]
  },
  {
   "cell_type": "markdown",
   "id": "46fd0581",
   "metadata": {},
   "source": [
    "Aufgabe 4 – Strukturparameter einer Verteilung (Schiefe)\n",
    "\n",
    "Strukturparameter sind statistische Kennzahlen, die die Abweichung einer\n",
    "Häufigkeitsverteilung von der Normalverteilung beschreiben. Unterschieden wird zwischen\n",
    "der Abweichung von der Symmetrie (Schiefe) und der Streckung oder Stauchung in der\n",
    "Richtung der y-Achse (Wölbung). Die Näherungsformel (Pearson) für die Berechnung der\n",
    "̃\n",
    "𝑥̅−𝑥\n",
    "Schiefe lautet wie folgt: 𝑆 =\n",
    ", wobei 𝑥̅ der arithmetische Mittelwert, 𝑥̃ der Median und\n",
    "𝑠\n",
    "𝑠 die Standardabweichung ist. Man kann dann folgende Faustregeln aufstellen:\n",
    "• Linkssteil (rechtsschief): Modus < Median < Mittelwert\n",
    "• Symmetrisch: Modus = Median = Mittelwert\n",
    "• Rechtssteil (linksschief): Mittelwert < Median < Modus\n",
    "\n",
    "a) Erstelle ein Python-Programm, mit welchem du Zufallszahlen (normalverteilte) generieren\n",
    "kannst."
   ]
  },
  {
   "cell_type": "code",
   "execution_count": 385,
   "id": "8bb217bb",
   "metadata": {},
   "outputs": [
    {
     "data": {
      "image/png": "[encoded data removed]",
      "text/plain": [
       "<Figure size 640x480 with 1 Axes>"
      ]
     },
     "metadata": {},
     "output_type": "display_data"
    }
   ],
   "source": [
    "# Zufallszahlen aus einer Normalverteilung generieren\n",
    "np.random.seed(42)  # Für Reproduzierbarkeit\n",
    "normalverteilte_daten = np.random.normal(loc=0, scale=1, size=1000)\n",
    "\n",
    "# Beispiel: Histogramm der generierten Daten anzeigen\n",
    "plt.hist(normalverteilte_daten, bins=30, edgecolor='black')\n",
    "plt.xlabel('Wert')\n",
    "plt.ylabel('Häufigkeit')\n",
    "plt.title('Histogramm: Normalverteilte Zufallszahlen')\n",
    "plt.show()"
   ]
  },
  {
   "cell_type": "markdown",
   "id": "86ffbc6a",
   "metadata": {},
   "source": [
    "b) Prüfe diese generierten Zufallszahlen respektive deren Häufigkeitsverteilung auf ihre\n",
    "Symmetrie mit deiner erstellten Funktion «schiefe_pearson(daten)». Eine genauere\n",
    "Formel findest du unter dem angegebenen Link beim Abschnitt der empirischen Schiefe.\n",
    "Erstelle eine zweite Funktion «schiefe_empirisch(daten)», welche auf dieser Formel\n",
    "basiert. https://de.wikipedia.org/wiki/Schiefe_(Statistik)"
   ]
  },
  {
   "cell_type": "code",
   "execution_count": 386,
   "id": "858997a8",
   "metadata": {},
   "outputs": [
    {
     "name": "stdout",
     "output_type": "stream",
     "text": [
      "Pearson-Schiefe: -0.006095240262998648\n",
      "Empirische Schiefe: 0.11680083110533508\n"
     ]
    }
   ],
   "source": [
    "def schiefe_pearson(daten):\n",
    "    mittelwert = np.mean(daten)\n",
    "    median = np.median(daten)\n",
    "    std = np.std(daten, ddof=1)\n",
    "    return (mittelwert - median) / std\n",
    "\n",
    "def schiefe_empirisch(daten):\n",
    "    n = len(daten)\n",
    "    mittelwert = np.mean(daten)\n",
    "    std = np.std(daten, ddof=0)\n",
    "    return (np.sum((daten - mittelwert) ** 3) / n) / (std ** 3)\n",
    "\n",
    "\n",
    "# Schiefe berechnen für die normalverteilten Daten\n",
    "pearson_schiefe = schiefe_pearson(normalverteilte_daten)\n",
    "empirische_schiefe = schiefe_empirisch(normalverteilte_daten)\n",
    "\n",
    "print(f\"Pearson-Schiefe: {pearson_schiefe}\")\n",
    "print(f\"Empirische Schiefe: {empirische_schiefe}\")"
   ]
  },
  {
   "cell_type": "markdown",
   "id": "00fd1557",
   "metadata": {},
   "source": [
    "c) Vergleiche deine Resultate mit denjenigen, welche mit der eingebauten Methode aus dem\n",
    "Modul scipy (skew) berechnet worden sind."
   ]
  },
  {
   "cell_type": "code",
   "execution_count": 387,
   "id": "a9f5dbab",
   "metadata": {},
   "outputs": [
    {
     "name": "stdout",
     "output_type": "stream",
     "text": [
      "Pearson-Schiefe: -0.006095240262998648\n",
      "Empirische Schiefe: 0.11680083110533508\n",
      "scipy.stats.skew: 0.1168008311053351\n",
      "\n",
      "Vergleich:\n",
      "Die Werte der empirischen Schiefe und der mit scipy.stats.skew berechneten Schiefe sind nahezu identisch. Die Pearson-Schiefe kann sich unterscheiden, da sie eine andere Formel verwendet. scipy.stats.skew nutzt die empirische Formel für die Schiefe.\n"
     ]
    }
   ],
   "source": [
    "# Schiefe mit scipy.stats.skew berechnen\n",
    "scipy_schiefe = stats.skew(normalverteilte_daten)\n",
    "\n",
    "print(f\"Pearson-Schiefe: {pearson_schiefe}\")\n",
    "print(f\"Empirische Schiefe: {empirische_schiefe}\")\n",
    "print(f\"scipy.stats.skew: {scipy_schiefe}\")\n",
    "\n",
    "print(\"\\nVergleich:\")\n",
    "print(\"Die Werte der empirischen Schiefe und der mit scipy.stats.skew berechneten Schiefe sind nahezu identisch. Die Pearson-Schiefe kann sich unterscheiden, da sie eine andere Formel verwendet. scipy.stats.skew nutzt die empirische Formel für die Schiefe.\")"
   ]
  },
  {
   "cell_type": "markdown",
   "id": "5c79f5aa",
   "metadata": {},
   "source": [
    "Aufgabe 5 – Strukturparameter einer Verteilung (Wölbung)\n",
    "\n",
    "a) Erstelle ein Pythonprogramm, mit welchem du Zufallszahlen (gleichverteilte, laplace\n",
    "verteilte und normal verteilte) generieren kannst. Dabei kannst du auf die Methoden im\n",
    "Paket scipy (uniform.rvs, laplace.rvs und norm.rvs) zurückgreifen."
   ]
  },
  {
   "cell_type": "code",
   "execution_count": 388,
   "id": "9f42bbae",
   "metadata": {},
   "outputs": [
    {
     "data": {
      "image/png": "[encoded data removed]",
      "text/plain": [
       "<Figure size 1200x400 with 3 Axes>"
      ]
     },
     "metadata": {},
     "output_type": "display_data"
    }
   ],
   "source": [
    "from scipy.stats import uniform, laplace, norm\n",
    "\n",
    "# Zufallszahlen generieren\n",
    "n = 1000  # Anzahl der Zufallszahlen\n",
    "\n",
    "gleichverteilte_daten = uniform.rvs(loc=0, scale=1, size=n)\n",
    "laplaceverteilte_daten = laplace.rvs(loc=0, scale=1, size=n)\n",
    "normalverteilte_daten2 = norm.rvs(loc=0, scale=1, size=n)\n",
    "\n",
    "# Beispiel: Histogramme anzeigen\n",
    "plt.figure(figsize=(12, 4))\n",
    "plt.subplot(1, 3, 1)\n",
    "plt.hist(gleichverteilte_daten, bins=30, edgecolor='black')\n",
    "plt.title('Gleichverteilte Daten')\n",
    "\n",
    "plt.subplot(1, 3, 2)\n",
    "plt.hist(laplaceverteilte_daten, bins=30, edgecolor='black')\n",
    "plt.title('Laplaceverteilte Daten')\n",
    "\n",
    "plt.subplot(1, 3, 3)\n",
    "plt.hist(normalverteilte_daten2, bins=30, edgecolor='black')\n",
    "plt.title('Normalverteilte Daten')\n",
    "\n",
    "plt.tight_layout()\n",
    "plt.show()"
   ]
  },
  {
   "cell_type": "markdown",
   "id": "71015323",
   "metadata": {},
   "source": [
    "b) Erstelle eine Funktion «woelbung_(daten)». Die Formel dazu findest du im angegebenen\n",
    "Link unter dem Abschnitt «Empirische Wölbung». Berechne die Wölbung mit dieser\n",
    "Funktion."
   ]
  },
  {
   "cell_type": "code",
   "execution_count": 389,
   "id": "616498c5",
   "metadata": {},
   "outputs": [
    {
     "name": "stdout",
     "output_type": "stream",
     "text": [
      "Wölbung (normalverteilte_daten2): 2.873672795118665\n",
      "Wölbung (gleichverteilte_daten): 1.8043547473264467\n",
      "Wölbung (laplaceverteilte_daten): 7.915058052204368\n"
     ]
    }
   ],
   "source": [
    "def woelbung(daten):\n",
    "    n = len(daten)\n",
    "    mittelwert = np.mean(daten)\n",
    "    std = np.std(daten, ddof=0)\n",
    "    return (np.sum((daten - mittelwert) ** 4) / n) / (std ** 4)\n",
    "\n",
    "\n",
    "# Wölbung für alle 3 Datensätze berechnen\n",
    "woelbung_normal = woelbung(normalverteilte_daten2)\n",
    "woelbung_gleich = woelbung(gleichverteilte_daten)\n",
    "woelbung_laplace = woelbung(laplaceverteilte_daten)\n",
    "\n",
    "print(f\"Wölbung (normalverteilte_daten2): {woelbung_normal}\")\n",
    "print(f\"Wölbung (gleichverteilte_daten): {woelbung_gleich}\")\n",
    "print(f\"Wölbung (laplaceverteilte_daten): {woelbung_laplace}\")"
   ]
  },
  {
   "cell_type": "markdown",
   "id": "a631af3f",
   "metadata": {},
   "source": [
    "c) Vergleiche deine Resultate mit denjenigen, welche mit der eingebauten Methode aus dem\n",
    "Modul scipy (kurtosis) berechnet worden sind."
   ]
  },
  {
   "cell_type": "code",
   "execution_count": 390,
   "id": "567efd2f",
   "metadata": {},
   "outputs": [
    {
     "name": "stdout",
     "output_type": "stream",
     "text": [
      "Wölbung (eigene Funktion, normalverteilte_daten2): 2.873672795118665\n",
      "scipy.stats.kurtosis (normalverteilte_daten2): 2.873672795118665\n",
      "\n",
      "Wölbung (eigene Funktion, gleichverteilte_daten): 1.8043547473264467\n",
      "scipy.stats.kurtosis (gleichverteilte_daten): 1.8043547473264465\n",
      "\n",
      "Wölbung (eigene Funktion, laplaceverteilte_daten): 7.915058052204368\n",
      "scipy.stats.kurtosis (laplaceverteilte_daten): 7.915058052204369\n"
     ]
    }
   ],
   "source": [
    "from scipy.stats import kurtosis\n",
    "\n",
    "# Wölbung mit scipy.stats.kurtosis berechnen (Fisher=False für Vergleich mit empirischer Wölbung)\n",
    "\n",
    "kurtosis_normal = kurtosis(normalverteilte_daten2, fisher=False)\n",
    "kurtosis_gleich = kurtosis(gleichverteilte_daten, fisher=False)\n",
    "kurtosis_laplace = kurtosis(laplaceverteilte_daten, fisher=False)\n",
    "\n",
    "print(f\"Wölbung (eigene Funktion, normalverteilte_daten2): {woelbung_normal}\")\n",
    "print(f\"scipy.stats.kurtosis (normalverteilte_daten2): {kurtosis_normal}\\n\")\n",
    "\n",
    "print(f\"Wölbung (eigene Funktion, gleichverteilte_daten): {woelbung_gleich}\")\n",
    "print(f\"scipy.stats.kurtosis (gleichverteilte_daten): {kurtosis_gleich}\\n\")\n",
    "\n",
    "print(f\"Wölbung (eigene Funktion, laplaceverteilte_daten): {woelbung_laplace}\")\n",
    "print(f\"scipy.stats.kurtosis (laplaceverteilte_daten): {kurtosis_laplace}\")"
   ]
  },
  {
   "cell_type": "markdown",
   "id": "5ec2dc6c",
   "metadata": {},
   "source": [
    "Aufgabe 6 – Stichprobe I - zufällige Auswahl von Elementen\n",
    "\n",
    "Gegeben ist die Liste der Artikel: Badehosen, Langhosen, Kurzhosen, Wanderschuhe,\n",
    "Unterhosen, Skischuhe, Turnschuhe. Erstelle ein Pythonprogramm, welches dir jeweils 1, 2\n",
    "oder 3 Artikel zufällig aus diesen auswählt. Dieser Vorgang soll dreimal wiederholt werden.\n",
    "\n",
    "a) Bei jeder Auswahl eines Artikels wird dieser wieder zurückgelegt, so dass gleiche Artikel\n",
    "mehrfach vorkommen dürfen."
   ]
  },
  {
   "cell_type": "code",
   "execution_count": 391,
   "id": "d3f02118",
   "metadata": {},
   "outputs": [
    {
     "name": "stdout",
     "output_type": "stream",
     "text": [
      "\n",
      "Ziehung von 1 Artikel(n) (mit Zurücklegen):\n",
      "  Ziehung 1: ['Unterhosen']\n",
      "  Ziehung 2: ['Wanderschuhe']\n",
      "  Ziehung 3: ['Unterhosen']\n",
      "\n",
      "Ziehung von 2 Artikel(n) (mit Zurücklegen):\n",
      "  Ziehung 1: ['Kurzhosen', 'Wanderschuhe']\n",
      "  Ziehung 2: ['Unterhosen', 'Kurzhosen']\n",
      "  Ziehung 3: ['Langhosen', 'Skischuhe']\n",
      "\n",
      "Ziehung von 3 Artikel(n) (mit Zurücklegen):\n",
      "  Ziehung 1: ['Langhosen', 'Unterhosen', 'Turnschuhe']\n",
      "  Ziehung 2: ['Langhosen', 'Skischuhe', 'Kurzhosen']\n",
      "  Ziehung 3: ['Turnschuhe', 'Kurzhosen', 'Kurzhosen']\n"
     ]
    }
   ],
   "source": [
    "import random\n",
    "\n",
    "artikel = ['Badehosen', 'Langhosen', 'Kurzhosen', 'Wanderschuhe', 'Unterhosen', 'Skischuhe', 'Turnschuhe']\n",
    "\n",
    "# Funktion für die Ziehung mit Zurücklegen\n",
    "def ziehung_mit_zuruecklegen(artikel_liste, anzahl):\n",
    "    return [random.choice(artikel_liste) for _ in range(anzahl)]\n",
    "\n",
    "# Dreimal jeweils 1, 2 und 3 Artikel ziehen\n",
    "for n in [1, 2, 3]:\n",
    "    print(f\"\\nZiehung von {n} Artikel(n) (mit Zurücklegen):\")\n",
    "    for i in range(3):\n",
    "        gezogen = ziehung_mit_zuruecklegen(artikel, n)\n",
    "        print(f\"  Ziehung {i+1}: {gezogen}\")"
   ]
  },
  {
   "cell_type": "markdown",
   "id": "7c8f0ffb",
   "metadata": {},
   "source": [
    "b) Nach der Auswahl eines Artikels in einem Vorgang, darf ein Artikel nicht mehrfach\n",
    "ausgewählt werden."
   ]
  },
  {
   "cell_type": "code",
   "execution_count": 392,
   "id": "0b3263b3",
   "metadata": {},
   "outputs": [
    {
     "name": "stdout",
     "output_type": "stream",
     "text": [
      "\n",
      "Ziehung von 1 Artikel(n) (ohne Zurücklegen):\n",
      "  Ziehung 1: ['Kurzhosen']\n",
      "  Ziehung 2: ['Badehosen']\n",
      "  Ziehung 3: ['Turnschuhe']\n",
      "\n",
      "Ziehung von 2 Artikel(n) (ohne Zurücklegen):\n",
      "  Ziehung 1: ['Kurzhosen', 'Turnschuhe']\n",
      "  Ziehung 2: ['Badehosen', 'Turnschuhe']\n",
      "  Ziehung 3: ['Badehosen', 'Skischuhe']\n",
      "\n",
      "Ziehung von 3 Artikel(n) (ohne Zurücklegen):\n",
      "  Ziehung 1: ['Wanderschuhe', 'Unterhosen', 'Kurzhosen']\n",
      "  Ziehung 2: ['Kurzhosen', 'Unterhosen', 'Wanderschuhe']\n",
      "  Ziehung 3: ['Turnschuhe', 'Unterhosen', 'Langhosen']\n"
     ]
    }
   ],
   "source": [
    "# Funktion für die Ziehung ohne Zurücklegen\n",
    "def ziehung_ohne_zuruecklegen(artikel_liste, anzahl):\n",
    "    return random.sample(artikel_liste, anzahl)\n",
    "\n",
    "# Dreimal jeweils 1, 2 und 3 Artikel ziehen (ohne Zurücklegen)\n",
    "for n in [1, 2, 3]:\n",
    "    print(f\"\\nZiehung von {n} Artikel(n) (ohne Zurücklegen):\")\n",
    "    for i in range(3):\n",
    "        gezogen = ziehung_ohne_zuruecklegen(artikel, n)\n",
    "        print(f\"  Ziehung {i+1}: {gezogen}\")"
   ]
  },
  {
   "cell_type": "markdown",
   "id": "5dd8d91e",
   "metadata": {},
   "source": [
    "c) Wie können jeweils die Anzahl Möglichkeiten berechnet werden?\n",
    "Variante 1: Mit Hilfe des Moduls «numpy».\n",
    "Variante 2: Gibt es noch eine andere Möglichkeit? Versuche es mit den Modulen «itertools»\n",
    "und «math»."
   ]
  },
  {
   "cell_type": "code",
   "execution_count": 393,
   "id": "e24f08a4",
   "metadata": {},
   "outputs": [
    {
     "name": "stdout",
     "output_type": "stream",
     "text": [
      "\n",
      "Ziehung von 1 Artikel(n):\n",
      "  Mit Zurücklegen (numpy): 7\n",
      "  Ohne Zurücklegen (numpy): 7\n",
      "  Mit Zurücklegen (math): 7\n",
      "  Ohne Zurücklegen (math): 7\n",
      "  Mit Zurücklegen (itertools): 7\n",
      "  Ohne Zurücklegen (itertools): 7\n",
      "\n",
      "Ziehung von 2 Artikel(n):\n",
      "  Mit Zurücklegen (numpy): 49\n",
      "  Ohne Zurücklegen (numpy): 42\n",
      "  Mit Zurücklegen (math): 49\n",
      "  Ohne Zurücklegen (math): 42\n",
      "  Mit Zurücklegen (itertools): 49\n",
      "  Ohne Zurücklegen (itertools): 42\n",
      "\n",
      "Ziehung von 3 Artikel(n):\n",
      "  Mit Zurücklegen (numpy): 343\n",
      "  Ohne Zurücklegen (numpy): 210\n",
      "  Mit Zurücklegen (math): 343\n",
      "  Ohne Zurücklegen (math): 210\n",
      "  Mit Zurücklegen (itertools): 343\n",
      "  Ohne Zurücklegen (itertools): 210\n"
     ]
    }
   ],
   "source": [
    "import numpy as np\n",
    "import itertools\n",
    "import math\n",
    "\n",
    "n_artikel = len(artikel)\n",
    "\n",
    "# Variante 1: Mit numpy (Kombinationen und Permutationen)\n",
    "\n",
    "def anzahl_moeglichkeiten_numpy(n, k, mit_zuruecklegen=True):\n",
    "    if mit_zuruecklegen:\n",
    "        return np.power(n, k)\n",
    "    else:\n",
    "        # n! / (n - k)! = prod(n - i) for i in range(k)\n",
    "        if k > n:\n",
    "            return 0\n",
    "        return np.prod(np.arange(n, n - k, -1))\n",
    "    \n",
    "\n",
    "# variante 2: math\n",
    "def anzahl_moeglichkeiten_math(n, k, mit_zuruecklegen=True):\n",
    "    if mit_zuruecklegen:\n",
    "        # Ziehen mit Zurücklegen: n^k Möglichkeiten\n",
    "        return n ** k\n",
    "    else:\n",
    "        # Ziehen ohne Zurücklegen: n! / (n-k)!\n",
    "        return math.perm(n, k)\n",
    "\n",
    "# Variante 2: Mit itertools und math\n",
    "def anzahl_moeglichkeiten_itertools(n, k, mit_zuruecklegen=True):\n",
    "    if mit_zuruecklegen:\n",
    "        # Produkt mit Wiederholung\n",
    "        return len(list(itertools.product(range(n), repeat=k)))\n",
    "    else:\n",
    "        # Permutationen ohne Wiederholung\n",
    "        return len(list(itertools.permutations(range(n), k)))\n",
    "\n",
    "# Beispiel: Anzahl Möglichkeiten für 1, 2, 3 Artikel\n",
    "for k in [1, 2, 3]:\n",
    "    print(f\"\\nZiehung von {k} Artikel(n):\")\n",
    "    print(f\"  Mit Zurücklegen (numpy): {anzahl_moeglichkeiten_numpy(n_artikel, k, True)}\")\n",
    "    print(f\"  Ohne Zurücklegen (numpy): {anzahl_moeglichkeiten_numpy(n_artikel, k, False)}\")\n",
    "    print(f\"  Mit Zurücklegen (math): {anzahl_moeglichkeiten_math(n_artikel, k, True)}\")\n",
    "    print(f\"  Ohne Zurücklegen (math): {anzahl_moeglichkeiten_math(n_artikel, k, False)}\")\n",
    "    print(f\"  Mit Zurücklegen (itertools): {anzahl_moeglichkeiten_itertools(n_artikel, k, True)}\")\n",
    "    print(f\"  Ohne Zurücklegen (itertools): {anzahl_moeglichkeiten_itertools(n_artikel, k, False)}\")"
   ]
  },
  {
   "cell_type": "markdown",
   "id": "bdf97d0a",
   "metadata": {},
   "source": [
    "Aufgabe 7 – Stichprobe II - zufällige Auswahl von Elementen\n",
    "\n",
    "In der beiliegenden Datei «daten-04-7.csv» sind aus den vorhandenen Datensätzen zwei\n",
    "Stichproben à je 100 Datensätze auszuwählen. Diese Daten sollen in separate Ausgabedateien\n",
    "geschrieben werden.\n",
    "\n",
    "a) Bei der Auswahl können bereits ausgewählte Datensätze mehrfach auftreten.\n",
    "\n",
    "b) Bei der Auswahl dürfen bereits ausgewählte Datensätze nur einmal auftreten.\n",
    "\n",
    "Ermittle für die Grundgesamtheit (alle Datensätze) die üblichen deskriptiven Werte für das\n",
    "Merkmal [BETRAG], also Lage- und Streumasse und vergleiche diese mit denjenigen aus\n",
    "Teilaufgabe a) und b). Gibt es erkennbare Unterschiede?\n",
    "\n",
    "Beispiel wie die Daten in der Datei aussehen:\n",
    "INDEX;ORT;RICHTUNG;BETRAG;MONAT\n",
    "1;Bern;Eingang;19516;1\n",
    "2;Zürich;Ausgang;44188;1\n",
    "3;Basel;Eingang;47746;10\n",
    "4;Lausanne;Ausgang;20918;5\n",
    "5;Chur;Eingang;72450;11\n",
    "6;Sion;Ausgang;42080;12\n",
    "7;St. Gallen;Eingang;62647;5\n",
    "8;Bern;Ausgang;11179;3\n",
    "9;Zürich;Eingang;2767;12\n",
    "10;Basel;Ausgang;53364;1\n",
    "11;Lausanne;Eingang;58546;8\n",
    "12;Chur;Ausgang;8732;7\n",
    "13;Sion;Eingang;52550;10\n",
    "14;St. Gallen;Ausgang;51780;5\n",
    "15;Bern;Eingang;33949;7\n",
    "16;Zürich;Ausgang;65178;10\n",
    "17;Basel;Eingang;5957;1\n",
    "18;Lausanne;Ausgang;7041;9\n",
    "19;Chur;Eingang;69863;11\n",
    "20;Sion;Ausgang;54935;8\n",
    "21;St. Gallen;Eingang;14190;12\n",
    "22;Bern;Ausgang;46787;11\n",
    "23;Zürich;Eingang;70029;4\n",
    "24;Basel;Ausgang;31129;8\n",
    "25;Lausanne;Eingang;8911;2\n",
    "26;Chur;Ausgang;28662;9\n",
    "27;Sion;Eingang;17879;9\n",
    "28;St. Gallen;Ausgang;65736;3\n",
    "29;Bern;Eingang;61757;9\n",
    "30;Zürich;Ausgang;67888;5\n",
    "31;Basel;Eingang;17196;2"
   ]
  },
  {
   "cell_type": "code",
   "execution_count": 394,
   "id": "64db3030",
   "metadata": {},
   "outputs": [
    {
     "name": "stdout",
     "output_type": "stream",
     "text": [
      "Grundgesamtheit:\n",
      "  Mittelwert: 38487.72\n",
      "  Median: 38699.00\n",
      "  Spannweite: 77394\n",
      "  Standardabweichung: 22359.88\n",
      "\n",
      "Stichprobe mit Zurücklegen:\n",
      "  Mittelwert: 36947.12\n",
      "  Median: 38170.00\n",
      "  Spannweite: 74648\n",
      "  Standardabweichung: 21880.00\n",
      "\n",
      "Stichprobe ohne Zurücklegen:\n",
      "  Mittelwert: 40868.64\n",
      "  Median: 41938.50\n",
      "  Spannweite: 76603\n",
      "  Standardabweichung: 22013.38\n"
     ]
    }
   ],
   "source": [
    "import pandas as pd\n",
    "\n",
    "# CSV-Datei einlesen\n",
    "df = pd.read_csv('./daten/daten-04-7.csv', sep=';')\n",
    "\n",
    "# Zwei Stichproben à 100 Datensätze ziehen\n",
    "# a) Mit Zurücklegen (Zufallsauswahl mit Wiederholung)\n",
    "stichprobe_mit = df.sample(n=100, replace=True, random_state=42)\n",
    "stichprobe_mit.to_csv('./data/stichprobe_mit_zuruecklegen.csv', sep=';', index=False)\n",
    "\n",
    "# b) Ohne Zurücklegen (Zufallsauswahl ohne Wiederholung)\n",
    "stichprobe_ohne = df.sample(n=100, replace=False, random_state=42)\n",
    "stichprobe_ohne.to_csv('./data/stichprobe_ohne_zuruecklegen.csv', sep=';', index=False)\n",
    "\n",
    "# Deskriptive Statistik für Grundgesamtheit\n",
    "betrag = df['BETRAG']\n",
    "print(\"Grundgesamtheit:\")\n",
    "print(f\"  Mittelwert: {betrag.mean():.2f}\")\n",
    "print(f\"  Median: {betrag.median():.2f}\")\n",
    "print(f\"  Spannweite: {betrag.max() - betrag.min()}\")\n",
    "print(f\"  Standardabweichung: {betrag.std(ddof=0):.2f}\")\n",
    "\n",
    "# Deskriptive Statistik für Stichprobe mit Zurücklegen\n",
    "betrag_mit = stichprobe_mit['BETRAG']\n",
    "print(\"\\nStichprobe mit Zurücklegen:\")\n",
    "print(f\"  Mittelwert: {betrag_mit.mean():.2f}\")\n",
    "print(f\"  Median: {betrag_mit.median():.2f}\")\n",
    "print(f\"  Spannweite: {betrag_mit.max() - betrag_mit.min()}\")\n",
    "print(f\"  Standardabweichung: {betrag_mit.std(ddof=1):.2f}\")\n",
    "\n",
    "# Deskriptive Statistik für Stichprobe ohne Zurücklegen\n",
    "betrag_ohne = stichprobe_ohne['BETRAG']\n",
    "print(\"\\nStichprobe ohne Zurücklegen:\")\n",
    "print(f\"  Mittelwert: {betrag_ohne.mean():.2f}\")\n",
    "print(f\"  Median: {betrag_ohne.median():.2f}\")\n",
    "print(f\"  Spannweite: {betrag_ohne.max() - betrag_ohne.min()}\")\n",
    "print(f\"  Standardabweichung: {betrag_ohne.std(ddof=1):.2f}\")"
   ]
  },
  {
   "cell_type": "markdown",
   "id": "21afe755",
   "metadata": {},
   "source": [
    "Aufgabe 8 – Stichprobe III - zufällige Auswahl von Elementen, Histogramm, Dichte\n",
    "Es sollen je 1000 Zufallszahlen generiert werden. Benutze dazu die entsprechenden Methoden\n",
    "aus dem Modul «scipy.stats» und für das Histogramm respektive für die Dichtefunktion das\n",
    "Modul «seaborn» und verwende die Standardeinstellungen.\n",
    "\n",
    "a) Die Zufallszahlen sollen normalverteilt sein.\n",
    "\n",
    "b) Die Zufallszahlen sollen gleichverteilt sein.\n",
    "\n",
    "c) Die Zufallszahlen sollen einer Laplace-Verteilung genügen.\n",
    "\n",
    "d) Stelle die Histogramme für die in a) bis c) berechneten Zufallszahlen nebeneinander dar.\n",
    "\n",
    "e) Stelle die Density-Plots (Dichten) für die in a) bis c) berechneten Zufallszahlen\n",
    "nebeneinander dar. Für die Darstellung der sogenannten Dichtefunktion kannst du auf das\n",
    "Modul «seaborn» und die darin verfügbare Methode «kdeplot» verwenden.\n",
    "\n",
    "f) Erkennst du anhand der Plots die Verteilungen?"
   ]
  },
  {
   "cell_type": "code",
   "execution_count": 395,
   "id": "bdd2f98e",
   "metadata": {},
   "outputs": [],
   "source": [
    "import seaborn as sns\n",
    "from scipy.stats import norm, uniform, laplace\n",
    "\n",
    "# 1000 Zufallszahlen generieren\n",
    "normal_data = norm.rvs(loc=0, scale=1, size=1000, random_state=3)\n",
    "uniform_data = uniform.rvs(loc=0, scale=1, size=1000, random_state=3)\n",
    "laplace_data = laplace.rvs(loc=0, scale=1, size=1000, random_state=3)\n"
   ]
  },
  {
   "cell_type": "markdown",
   "id": "10c35c92",
   "metadata": {},
   "source": [
    "d) Stelle die Histogramme für die in a) bis c) berechneten Zufallszahlen nebeneinander dar."
   ]
  },
  {
   "cell_type": "code",
   "execution_count": 396,
   "id": "8c8931da",
   "metadata": {},
   "outputs": [
    {
     "data": {
      "image/png": "[encoded data removed]",
      "text/plain": [
       "<Figure size 1500x400 with 3 Axes>"
      ]
     },
     "metadata": {},
     "output_type": "display_data"
    }
   ],
   "source": [
    "# Histogramme anzeige\n",
    "plt.figure(figsize=(15, 4))\n",
    "plt.subplot(1, 3, 1)\n",
    "sns.histplot(normal_data, kde=False, bins=10)\n",
    "plt.title(\"Normalverteilung\")\n",
    "\n",
    "plt.subplot(1, 3, 2)\n",
    "sns.histplot(uniform_data, kde=False, bins=10)\n",
    "plt.title(\"Gleichverteilung\")\n",
    "\n",
    "plt.subplot(1, 3, 3)\n",
    "sns.histplot(laplace_data, kde=False, bins=10)\n",
    "plt.title(\"Laplace-Verteilung\")\n",
    "\n",
    "plt.tight_layout()\n",
    "plt.show()"
   ]
  },
  {
   "cell_type": "markdown",
   "id": "4f870674",
   "metadata": {},
   "source": [
    "e) Stelle die Density-Plots (Dichten) für die in a) bis c) berechneten Zufallszahlen\n",
    "nebeneinander dar. Für die Darstellung der sogenannten Dichtefunktion kannst du auf das\n",
    "Modul «seaborn» und die darin verfügbare Methode «kdeplot» verwenden."
   ]
  },
  {
   "cell_type": "code",
   "execution_count": 397,
   "id": "5097fe25",
   "metadata": {},
   "outputs": [
    {
     "data": {
      "image/png": "[encoded data removed]",
      "text/plain": [
       "<Figure size 1500x400 with 3 Axes>"
      ]
     },
     "metadata": {},
     "output_type": "display_data"
    }
   ],
   "source": [
    "# Density-Plots (Dichtefunktionen) nebeneinander darstellen\n",
    "plt.figure(figsize=(15, 4))\n",
    "plt.subplot(1, 3, 1)\n",
    "sns.kdeplot(normal_data)\n",
    "plt.title(\"Normalverteilung\")\n",
    "\n",
    "plt.subplot(1, 3, 2)\n",
    "sns.kdeplot(uniform_data)\n",
    "plt.title(\"Gleichverteilung\")\n",
    "\n",
    "plt.subplot(1, 3, 3)\n",
    "sns.kdeplot(laplace_data)\n",
    "plt.title(\"Laplace-Verteilung\")\n",
    "\n",
    "plt.tight_layout()\n",
    "plt.show()"
   ]
  },
  {
   "cell_type": "markdown",
   "id": "8b47b557",
   "metadata": {},
   "source": [
    "\n",
    "f) Erkennst du anhand der Plots die Verteilungen?"
   ]
  },
  {
   "cell_type": "code",
   "execution_count": 398,
   "id": "7b3b66f2",
   "metadata": {},
   "outputs": [
    {
     "name": "stdout",
     "output_type": "stream",
     "text": [
      "Ja, anhand der Histogramme und Dichte-Plots lassen sich die Verteilungen gut erkennen:\n",
      "- Die Normalverteilung zeigt die typische glockenförmige Kurve.\n",
      "- Die Gleichverteilung ist an der annähernd konstanten Höhe im Histogramm und der rechteckigen Dichte zu erkennen.\n",
      "- Die Laplace-Verteilung ist ähnlich wie die Normalverteilung, aber mit einer spitzeren Spitze und dickeren Rändern (schmaler und höher in der Mitte, breiter in den Flanken).\n",
      "Die grafische Darstellung macht die Unterschiede zwischen den Verteilungen deutlich sichtbar.\n"
     ]
    }
   ],
   "source": [
    "# Antwort auf Aufgabe f)\n",
    "\n",
    "print(\"Ja, anhand der Histogramme und Dichte-Plots lassen sich die Verteilungen gut erkennen:\")\n",
    "print(\"- Die Normalverteilung zeigt die typische glockenförmige Kurve.\")\n",
    "print(\"- Die Gleichverteilung ist an der annähernd konstanten Höhe im Histogramm und der rechteckigen Dichte zu erkennen.\")\n",
    "print(\"- Die Laplace-Verteilung ist ähnlich wie die Normalverteilung, aber mit einer spitzeren Spitze und dickeren Rändern (schmaler und höher in der Mitte, breiter in den Flanken).\")\n",
    "print(\"Die grafische Darstellung macht die Unterschiede zwischen den Verteilungen deutlich sichtbar.\")"
   ]
  }
 ],
 "metadata": {
  "kernelspec": {
   "display_name": ".venv",
   "language": "python",
   "name": "python3"
  },
  "language_info": {
   "codemirror_mode": {
    "name": "ipython",
    "version": 3
   },
   "file_extension": ".py",
   "mimetype": "text/x-python",
   "name": "python",
   "nbconvert_exporter": "python",
   "pygments_lexer": "ipython3",
   "version": "3.9.6"
  }
 },
 "nbformat": 4,
 "nbformat_minor": 5
}
