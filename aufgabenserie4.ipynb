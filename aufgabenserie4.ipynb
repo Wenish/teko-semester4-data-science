{
 "cells": [
  {
   "cell_type": "markdown",
   "id": "c432a906",
   "metadata": {},
   "source": [
    "Übungsserie 4: 22.05.2025\n",
    "\n",
    "Thema «Python lernen» - Grundlagen, einfache Algorithmen und Statistik"
   ]
  },
  {
   "cell_type": "markdown",
   "id": "18f916f5",
   "metadata": {},
   "source": [
    "Aufgabe 1 – Daten visualisieren - Balkendiagramme\n",
    "\n",
    "Es soll der Kaffeekonsum grafisch dargestellt werden. Dabei soll ein Balkendiagramm\n",
    "angewendet werden. Die Daten lauten wie folgt: Christian:7, Dres:11, Fabian:3, Jerom:5, Roy:2, Shan:2, Thomas:9. Die Zahl nach dem Doppelpunkt bedeutet die konsumierte\n",
    "Portionenmenge Kaffee.\n",
    "\n",
    "a) Erstelle ein Python-Programm, welches dir diese daten visuell darstellt."
   ]
  },
  {
   "cell_type": "code",
   "execution_count": 141,
   "id": "7f8e9c83",
   "metadata": {},
   "outputs": [
    {
     "data": {
      "image/png": "[encoded data removed]",
      "text/plain": [
       "<Figure size 640x480 with 1 Axes>"
      ]
     },
     "metadata": {},
     "output_type": "display_data"
    }
   ],
   "source": [
    "import matplotlib.pyplot as plt\n",
    "\n",
    "# Daten\n",
    "namen = ['Christian', 'Dres', 'Fabian', 'Jerom', 'Roy', 'Shan', 'Thomas']\n",
    "kaffee = [7, 11, 3, 5, 2, 2, 9]\n",
    "\n",
    "# Balkendiagramm erstellen\n",
    "plt.bar(namen, kaffee)\n",
    "plt.xlabel('Personen')\n",
    "plt.ylabel('Kaffeekonsum')\n",
    "plt.title('Kaffeekonsum pro Person')\n",
    "plt.show()"
   ]
  },
  {
   "cell_type": "markdown",
   "id": "7675a3b3",
   "metadata": {},
   "source": [
    "b) Berechne die Lage- (Arithmetischer Mittelwert, Median) und Streumasse (Spannweite, Standardabweichung."
   ]
  },
  {
   "cell_type": "code",
   "execution_count": 142,
   "id": "6771811d",
   "metadata": {},
   "outputs": [
    {
     "name": "stdout",
     "output_type": "stream",
     "text": [
      "Arithmetischer Mittelwert: 5.571428571428571\n",
      "Median: 5.0\n",
      "Spannweite: 9\n",
      "Standardabweichung: 3.2888184094918107\n"
     ]
    }
   ],
   "source": [
    "import numpy as np\n",
    "\n",
    "# Arithmetischer Mittelwert\n",
    "mittelwert = np.mean(kaffee)\n",
    "\n",
    "# Median\n",
    "median = np.median(kaffee)\n",
    "\n",
    "# Spannweite\n",
    "spannweite = np.max(kaffee) - np.min(kaffee)\n",
    "\n",
    "# Standardabweichung\n",
    "standardabweichung = np.std(kaffee, ddof=0)\n",
    "\n",
    "print(f\"Arithmetischer Mittelwert: {mittelwert}\")\n",
    "print(f\"Median: {median}\")\n",
    "print(f\"Spannweite: {spannweite}\")\n",
    "print(f\"Standardabweichung: {standardabweichung}\")"
   ]
  },
  {
   "cell_type": "markdown",
   "id": "f13ac7b1",
   "metadata": {},
   "source": [
    "Aufgabe 2 – Daten auswerten und vergleichen (AM / Median), Ausreisser\n",
    "\n",
    "Es soll der Einfluss eines sogenannten «Ausreissers» festgestellt werden.\n",
    "Die Daten lauten wie folgt: [8.04, 6.95, 7.58, 8.81, 8.33, 9.96, 7.24, 4.26, 10.84, 4.82, 5.68].\n",
    "\n",
    "a) Berechne mit Hilfe des Moduls «statistics» das arithmetische Mittel und den Median."
   ]
  },
  {
   "cell_type": "code",
   "execution_count": 143,
   "id": "f80e6afb",
   "metadata": {},
   "outputs": [],
   "source": [
    "example_data = [8.04, 6.95, 7.58, 8.81, 8.33, 9.96, 7.24, 4.26, 10.84, 4.82, 5.68]"
   ]
  },
  {
   "cell_type": "code",
   "execution_count": 144,
   "id": "fb110a23",
   "metadata": {},
   "outputs": [
    {
     "name": "stdout",
     "output_type": "stream",
     "text": [
      "Arithmetisches Mittel: 7.500909090909091\n",
      "Median: 7.58\n"
     ]
    }
   ],
   "source": [
    "import statistics\n",
    "\n",
    "arith_mittel = statistics.mean(example_data)\n",
    "median_wert = statistics.median(example_data)\n",
    "\n",
    "print(f\"Arithmetisches Mittel: {arith_mittel}\")\n",
    "print(f\"Median: {median_wert}\")"
   ]
  },
  {
   "cell_type": "markdown",
   "id": "aa37976f",
   "metadata": {},
   "source": [
    "b) Jetzt fügst du den Daten einen weiteren Wert «100.0» dazu und berechnest wiederum das\n",
    "arithmetische Mittel und den Median."
   ]
  },
  {
   "cell_type": "code",
   "execution_count": 145,
   "id": "9c078306",
   "metadata": {},
   "outputs": [
    {
     "name": "stdout",
     "output_type": "stream",
     "text": [
      "Arithmetisches Mittel mit Ausreißer: 15.209166666666667\n",
      "Median mit Ausreißer: 7.81\n"
     ]
    }
   ],
   "source": [
    "# Neuen Wert hinzufügen\n",
    "example_data_mit_ausreisser = example_data + [100.0]\n",
    "\n",
    "# Arithmetisches Mittel und Median berechnen\n",
    "arith_mittel_ausreisser = statistics.mean(example_data_mit_ausreisser)\n",
    "median_ausreisser = statistics.median(example_data_mit_ausreisser)\n",
    "\n",
    "print(f\"Arithmetisches Mittel mit Ausreißer: {arith_mittel_ausreisser}\")\n",
    "print(f\"Median mit Ausreißer: {median_ausreisser}\")"
   ]
  },
  {
   "cell_type": "markdown",
   "id": "b3292830",
   "metadata": {},
   "source": [
    "c) Was stellst du beim Vergleich fest?"
   ]
  },
  {
   "cell_type": "code",
   "execution_count": 146,
   "id": "8e2097d1",
   "metadata": {},
   "outputs": [
    {
     "name": "stdout",
     "output_type": "stream",
     "text": [
      "Arithmetisches Mittel ohne Ausreißer: 7.50\n",
      "Arithmetisches Mittel mit Ausreißer: 15.21\n",
      "Median ohne Ausreißer: 7.58\n",
      "Median mit Ausreißer: 7.81\n",
      "\n",
      "Fazit:\n",
      "Das arithmetische Mittel wird durch den Ausreißer stark nach oben beeinflusst, während der Median nur geringfügig steigt. Der Median ist somit robuster gegenüber Ausreißern als das arithmetische Mittel.\n"
     ]
    }
   ],
   "source": [
    "# Vergleich der Kennzahlen mit und ohne Ausreißer\n",
    "print(f\"Arithmetisches Mittel ohne Ausreißer: {arith_mittel:.2f}\")\n",
    "print(f\"Arithmetisches Mittel mit Ausreißer: {arith_mittel_ausreisser:.2f}\")\n",
    "print(f\"Median ohne Ausreißer: {median_wert:.2f}\")\n",
    "print(f\"Median mit Ausreißer: {median_ausreisser:.2f}\")\n",
    "\n",
    "print(\"\\nFazit:\")\n",
    "print(\"Das arithmetische Mittel wird durch den Ausreißer stark nach oben beeinflusst, während der Median nur geringfügig steigt. Der Median ist somit robuster gegenüber Ausreißern als das arithmetische Mittel.\")"
   ]
  },
  {
   "cell_type": "markdown",
   "id": "dfda25f4",
   "metadata": {},
   "source": [
    "Aufgabe 3 – Daten auswerten und vergleichen (Stand.Abw. / IQR)\n",
    "\n",
    "Es soll der Einfluss eines sogenannten «Ausreissers» festgestellt werden. Die Daten lauten wie\n",
    "folgt: [8.04, 6.95, 7.58, 8.81, 8.33, 9.96, 7.24, 4.26, 10.84, 4.82, 5.68].\n",
    "\n",
    "a) Berechne mit Hilfe des Moduls «statistics» die Standardabweichung und den\n",
    "Interquartilsabstand (IQA oder IQR). Dazu kannst du auf das Modul «scipy» zurückgreifen."
   ]
  },
  {
   "cell_type": "code",
   "execution_count": 147,
   "id": "eaf5a35c",
   "metadata": {},
   "outputs": [
    {
     "name": "stdout",
     "output_type": "stream",
     "text": [
      "Standardabweichung: 2.031568135925815\n",
      "Interquartilsabstand (IQR): 2.255000000000001\n"
     ]
    }
   ],
   "source": [
    "from scipy import stats\n",
    "import statistics\n",
    "\n",
    "# Standardabweichung berechnen\n",
    "std_example = statistics.stdev(example_data)\n",
    "\n",
    "# Interquartilsabstand (IQR) berechnen\n",
    "iqr_example = stats.iqr(example_data)\n",
    "\n",
    "print(f\"Standardabweichung: {std_example}\")\n",
    "print(f\"Interquartilsabstand (IQR): {iqr_example}\")"
   ]
  },
  {
   "cell_type": "markdown",
   "id": "8e12d110",
   "metadata": {},
   "source": [
    "b) Jetzt fügst du den Daten einen weiteren Wert «100.0» dazu und berechnest wiederum das\n",
    "arithmetische Mittel und den Median."
   ]
  },
  {
   "cell_type": "code",
   "execution_count": 148,
   "id": "98ac7b22",
   "metadata": {},
   "outputs": [
    {
     "name": "stdout",
     "output_type": "stream",
     "text": [
      "Standardabweichung mit Ausreißer: 26.77235292350312\n",
      "Interquartilsabstand (IQR) mit Ausreißer: 2.465\n"
     ]
    }
   ],
   "source": [
    "# Standardabweichung und Interquartilsabstand (IQR) mit Ausreißer berechnen\n",
    "std_example_ausreisser = statistics.stdev(example_data_mit_ausreisser)\n",
    "iqr_example_ausreisser = stats.iqr(example_data_mit_ausreisser)\n",
    "\n",
    "print(f\"Standardabweichung mit Ausreißer: {std_example_ausreisser}\")\n",
    "print(f\"Interquartilsabstand (IQR) mit Ausreißer: {iqr_example_ausreisser}\")"
   ]
  },
  {
   "cell_type": "markdown",
   "id": "96cd979f",
   "metadata": {},
   "source": [
    "c) Was stellst du beim Vergleich fest?"
   ]
  },
  {
   "cell_type": "code",
   "execution_count": 149,
   "id": "76f6a907",
   "metadata": {},
   "outputs": [
    {
     "name": "stdout",
     "output_type": "stream",
     "text": [
      "Standardabweichung ohne Ausreißer: 2.03\n",
      "Standardabweichung mit Ausreißer: 26.77\n",
      "IQR ohne Ausreißer: 2.26\n",
      "IQR mit Ausreißer: 2.46\n",
      "\n",
      "Fazit:\n",
      "Die Standardabweichung wird durch den Ausreißer stark erhöht, während der IQR (Interquartilsabstand) nur geringfügig beeinflusst wird. Der IQR ist somit robuster gegenüber Ausreißern als die Standardabweichung.\n"
     ]
    }
   ],
   "source": [
    "# Vergleich der Streuungsmaße mit und ohne Ausreißer\n",
    "print(f\"Standardabweichung ohne Ausreißer: {std_example:.2f}\")\n",
    "print(f\"Standardabweichung mit Ausreißer: {std_example_ausreisser:.2f}\")\n",
    "print(f\"IQR ohne Ausreißer: {iqr_example:.2f}\")\n",
    "print(f\"IQR mit Ausreißer: {iqr_example_ausreisser:.2f}\")\n",
    "\n",
    "print(\"\\nFazit:\")\n",
    "print(\"Die Standardabweichung wird durch den Ausreißer stark erhöht, während der IQR (Interquartilsabstand) nur geringfügig beeinflusst wird. Der IQR ist somit robuster gegenüber Ausreißern als die Standardabweichung.\")"
   ]
  },
  {
   "cell_type": "markdown",
   "id": "d1e003ba",
   "metadata": {},
   "source": [
    "d) Boxplot je Datensätze"
   ]
  },
  {
   "cell_type": "code",
   "execution_count": 150,
   "id": "9035a196",
   "metadata": {},
   "outputs": [
    {
     "name": "stderr",
     "output_type": "stream",
     "text": [
      "/var/folders/6f/9j5b578s609f0xtyfj3rrmvw0000gn/T/ipykernel_48948/2813590152.py:3: MatplotlibDeprecationWarning: The 'labels' parameter of boxplot() has been renamed 'tick_labels' since Matplotlib 3.9; support for the old name will be dropped in 3.11.\n",
      "  plt.boxplot([example_data, example_data_mit_ausreisser], labels=['ohne Ausreißer', 'mit Ausreißer'])\n"
     ]
    },
    {
     "data": {
      "image/png": "[encoded data removed]",
      "text/plain": [
       "<Figure size 400x500 with 1 Axes>"
      ]
     },
     "metadata": {},
     "output_type": "display_data"
    }
   ],
   "source": [
    "# Boxplots für beide Datensätze erstellen\n",
    "plt.figure(figsize=(4, 5))\n",
    "plt.boxplot([example_data, example_data_mit_ausreisser], labels=['ohne Ausreißer', 'mit Ausreißer'])\n",
    "plt.ylabel('Werte')\n",
    "plt.title('Boxplot: Vergleich ohne/mit Ausreißer')\n",
    "plt.show()"
   ]
  },
  {
   "cell_type": "markdown",
   "id": "46fd0581",
   "metadata": {},
   "source": [
    "Aufgabe 4 – Strukturparameter einer Verteilung (Schiefe)\n",
    "\n",
    "Strukturparameter sind statistische Kennzahlen, die die Abweichung einer\n",
    "Häufigkeitsverteilung von der Normalverteilung beschreiben. Unterschieden wird zwischen\n",
    "der Abweichung von der Symmetrie (Schiefe) und der Streckung oder Stauchung in der\n",
    "Richtung der y-Achse (Wölbung). Die Näherungsformel (Pearson) für die Berechnung der\n",
    "̃\n",
    "𝑥̅−𝑥\n",
    "Schiefe lautet wie folgt: 𝑆 =\n",
    ", wobei 𝑥̅ der arithmetische Mittelwert, 𝑥̃ der Median und\n",
    "𝑠\n",
    "𝑠 die Standardabweichung ist. Man kann dann folgende Faustregeln aufstellen:\n",
    "• Linkssteil (rechtsschief): Modus < Median < Mittelwert\n",
    "• Symmetrisch: Modus = Median = Mittelwert\n",
    "• Rechtssteil (linksschief): Mittelwert < Median < Modus\n",
    "\n",
    "a) Erstelle ein Python-Programm, mit welchem du Zufallszahlen (normalverteilte) generieren\n",
    "kannst."
   ]
  },
  {
   "cell_type": "code",
   "execution_count": 151,
   "id": "8bb217bb",
   "metadata": {},
   "outputs": [
    {
     "data": {
      "image/png": "[encoded data removed]",
      "text/plain": [
       "<Figure size 640x480 with 1 Axes>"
      ]
     },
     "metadata": {},
     "output_type": "display_data"
    }
   ],
   "source": [
    "# Zufallszahlen aus einer Normalverteilung generieren\n",
    "np.random.seed(42)  # Für Reproduzierbarkeit\n",
    "normalverteilte_daten = np.random.normal(loc=0, scale=1, size=1000)\n",
    "\n",
    "# Beispiel: Histogramm der generierten Daten anzeigen\n",
    "plt.hist(normalverteilte_daten, bins=30, edgecolor='black')\n",
    "plt.xlabel('Wert')\n",
    "plt.ylabel('Häufigkeit')\n",
    "plt.title('Histogramm: Normalverteilte Zufallszahlen')\n",
    "plt.show()"
   ]
  },
  {
   "cell_type": "markdown",
   "id": "86ffbc6a",
   "metadata": {},
   "source": [
    "b) Prüfe diese generierten Zufallszahlen respektive deren Häufigkeitsverteilung auf ihre\n",
    "Symmetrie mit deiner erstellten Funktion «schiefe_pearson(daten)». Eine genauere\n",
    "Formel findest du unter dem angegebenen Link beim Abschnitt der empirischen Schiefe.\n",
    "Erstelle eine zweite Funktion «schiefe_empirisch(daten)», welche auf dieser Formel\n",
    "basiert. https://de.wikipedia.org/wiki/Schiefe_(Statistik)"
   ]
  },
  {
   "cell_type": "code",
   "execution_count": 152,
   "id": "858997a8",
   "metadata": {},
   "outputs": [
    {
     "name": "stdout",
     "output_type": "stream",
     "text": [
      "Pearson-Schiefe: -0.006095240262998648\n",
      "Empirische Schiefe: 0.11680083110533508\n"
     ]
    }
   ],
   "source": [
    "def schiefe_pearson(daten):\n",
    "    mittelwert = np.mean(daten)\n",
    "    median = np.median(daten)\n",
    "    std = np.std(daten, ddof=1)\n",
    "    return (mittelwert - median) / std\n",
    "\n",
    "def schiefe_empirisch(daten):\n",
    "    n = len(daten)\n",
    "    mittelwert = np.mean(daten)\n",
    "    std = np.std(daten, ddof=0)\n",
    "    return (np.sum((daten - mittelwert) ** 3) / n) / (std ** 3)\n",
    "\n",
    "\n",
    "# Schiefe berechnen für die normalverteilten Daten\n",
    "pearson_schiefe = schiefe_pearson(normalverteilte_daten)\n",
    "empirische_schiefe = schiefe_empirisch(normalverteilte_daten)\n",
    "\n",
    "print(f\"Pearson-Schiefe: {pearson_schiefe}\")\n",
    "print(f\"Empirische Schiefe: {empirische_schiefe}\")"
   ]
  },
  {
   "cell_type": "markdown",
   "id": "00fd1557",
   "metadata": {},
   "source": [
    "c) Vergleiche deine Resultate mit denjenigen, welche mit der eingebauten Methode aus dem\n",
    "Modul scipy (skew) berechnet worden sind."
   ]
  },
  {
   "cell_type": "code",
   "execution_count": 153,
   "id": "a9f5dbab",
   "metadata": {},
   "outputs": [
    {
     "name": "stdout",
     "output_type": "stream",
     "text": [
      "Pearson-Schiefe: -0.006095240262998648\n",
      "Empirische Schiefe: 0.11680083110533508\n",
      "scipy.stats.skew: 0.1168008311053351\n",
      "\n",
      "Vergleich:\n",
      "Die Werte der empirischen Schiefe und der mit scipy.stats.skew berechneten Schiefe sind nahezu identisch. Die Pearson-Schiefe kann sich unterscheiden, da sie eine andere Formel verwendet. scipy.stats.skew nutzt die empirische Formel für die Schiefe.\n"
     ]
    }
   ],
   "source": [
    "# Schiefe mit scipy.stats.skew berechnen\n",
    "scipy_schiefe = stats.skew(normalverteilte_daten)\n",
    "\n",
    "print(f\"Pearson-Schiefe: {pearson_schiefe}\")\n",
    "print(f\"Empirische Schiefe: {empirische_schiefe}\")\n",
    "print(f\"scipy.stats.skew: {scipy_schiefe}\")\n",
    "\n",
    "print(\"\\nVergleich:\")\n",
    "print(\"Die Werte der empirischen Schiefe und der mit scipy.stats.skew berechneten Schiefe sind nahezu identisch. Die Pearson-Schiefe kann sich unterscheiden, da sie eine andere Formel verwendet. scipy.stats.skew nutzt die empirische Formel für die Schiefe.\")"
   ]
  },
  {
   "cell_type": "markdown",
   "id": "5c79f5aa",
   "metadata": {},
   "source": [
    "Aufgabe 5 – Strukturparameter einer Verteilung (Wölbung)\n",
    "\n",
    "a) Erstelle ein Pythonprogramm, mit welchem du Zufallszahlen (gleichverteilte, laplace\n",
    "verteilte und normal verteilte) generieren kannst. Dabei kannst du auf die Methoden im\n",
    "Paket scipy (uniform.rvs, laplace.rvs und norm.rvs) zurückgreifen."
   ]
  },
  {
   "cell_type": "code",
   "execution_count": 154,
   "id": "9f42bbae",
   "metadata": {},
   "outputs": [
    {
     "data": {
      "image/png": "[encoded data removed]",
      "text/plain": [
       "<Figure size 1200x400 with 3 Axes>"
      ]
     },
     "metadata": {},
     "output_type": "display_data"
    }
   ],
   "source": [
    "from scipy.stats import uniform, laplace, norm\n",
    "\n",
    "# Zufallszahlen generieren\n",
    "n = 1000  # Anzahl der Zufallszahlen\n",
    "\n",
    "gleichverteilte_daten = uniform.rvs(loc=0, scale=1, size=n)\n",
    "laplaceverteilte_daten = laplace.rvs(loc=0, scale=1, size=n)\n",
    "normalverteilte_daten2 = norm.rvs(loc=0, scale=1, size=n)\n",
    "\n",
    "# Beispiel: Histogramme anzeigen\n",
    "plt.figure(figsize=(12, 4))\n",
    "plt.subplot(1, 3, 1)\n",
    "plt.hist(gleichverteilte_daten, bins=30, edgecolor='black')\n",
    "plt.title('Gleichverteilte Daten')\n",
    "\n",
    "plt.subplot(1, 3, 2)\n",
    "plt.hist(laplaceverteilte_daten, bins=30, edgecolor='black')\n",
    "plt.title('Laplaceverteilte Daten')\n",
    "\n",
    "plt.subplot(1, 3, 3)\n",
    "plt.hist(normalverteilte_daten2, bins=30, edgecolor='black')\n",
    "plt.title('Normalverteilte Daten')\n",
    "\n",
    "plt.tight_layout()\n",
    "plt.show()"
   ]
  },
  {
   "cell_type": "markdown",
   "id": "71015323",
   "metadata": {},
   "source": [
    "b) Erstelle eine Funktion «woelbung_(daten)». Die Formel dazu findest du im angegebenen\n",
    "Link unter dem Abschnitt «Empirische Wölbung». Berechne die Wölbung mit dieser\n",
    "Funktion."
   ]
  },
  {
   "cell_type": "code",
   "execution_count": 155,
   "id": "616498c5",
   "metadata": {},
   "outputs": [
    {
     "name": "stdout",
     "output_type": "stream",
     "text": [
      "Wölbung (normalverteilte_daten2): 2.873672795118665\n",
      "Wölbung (gleichverteilte_daten): 1.8043547473264467\n",
      "Wölbung (laplaceverteilte_daten): 7.915058052204368\n"
     ]
    }
   ],
   "source": [
    "def woelbung(daten):\n",
    "    n = len(daten)\n",
    "    mittelwert = np.mean(daten)\n",
    "    std = np.std(daten, ddof=0)\n",
    "    return (np.sum((daten - mittelwert) ** 4) / n) / (std ** 4)\n",
    "\n",
    "\n",
    "# Wölbung für alle 3 Datensätze berechnen\n",
    "woelbung_normal = woelbung(normalverteilte_daten2)\n",
    "woelbung_gleich = woelbung(gleichverteilte_daten)\n",
    "woelbung_laplace = woelbung(laplaceverteilte_daten)\n",
    "\n",
    "print(f\"Wölbung (normalverteilte_daten2): {woelbung_normal}\")\n",
    "print(f\"Wölbung (gleichverteilte_daten): {woelbung_gleich}\")\n",
    "print(f\"Wölbung (laplaceverteilte_daten): {woelbung_laplace}\")"
   ]
  },
  {
   "cell_type": "markdown",
   "id": "a631af3f",
   "metadata": {},
   "source": [
    "c) Vergleiche deine Resultate mit denjenigen, welche mit der eingebauten Methode aus dem\n",
    "Modul scipy (kurtosis) berechnet worden sind."
   ]
  },
  {
   "cell_type": "code",
   "execution_count": 156,
   "id": "567efd2f",
   "metadata": {},
   "outputs": [
    {
     "name": "stdout",
     "output_type": "stream",
     "text": [
      "Wölbung (eigene Funktion, normalverteilte_daten2): 2.873672795118665\n",
      "scipy.stats.kurtosis (normalverteilte_daten2): 2.873672795118665\n",
      "\n",
      "Wölbung (eigene Funktion, gleichverteilte_daten): 1.8043547473264467\n",
      "scipy.stats.kurtosis (gleichverteilte_daten): 1.8043547473264465\n",
      "\n",
      "Wölbung (eigene Funktion, laplaceverteilte_daten): 7.915058052204368\n",
      "scipy.stats.kurtosis (laplaceverteilte_daten): 7.915058052204369\n"
     ]
    }
   ],
   "source": [
    "from scipy.stats import kurtosis\n",
    "\n",
    "# Wölbung mit scipy.stats.kurtosis berechnen (Fisher=False für Vergleich mit empirischer Wölbung)\n",
    "\n",
    "kurtosis_normal = kurtosis(normalverteilte_daten2, fisher=False)\n",
    "kurtosis_gleich = kurtosis(gleichverteilte_daten, fisher=False)\n",
    "kurtosis_laplace = kurtosis(laplaceverteilte_daten, fisher=False)\n",
    "\n",
    "print(f\"Wölbung (eigene Funktion, normalverteilte_daten2): {woelbung_normal}\")\n",
    "print(f\"scipy.stats.kurtosis (normalverteilte_daten2): {kurtosis_normal}\\n\")\n",
    "\n",
    "print(f\"Wölbung (eigene Funktion, gleichverteilte_daten): {woelbung_gleich}\")\n",
    "print(f\"scipy.stats.kurtosis (gleichverteilte_daten): {kurtosis_gleich}\\n\")\n",
    "\n",
    "print(f\"Wölbung (eigene Funktion, laplaceverteilte_daten): {woelbung_laplace}\")\n",
    "print(f\"scipy.stats.kurtosis (laplaceverteilte_daten): {kurtosis_laplace}\")"
   ]
  },
  {
   "cell_type": "markdown",
   "id": "5ec2dc6c",
   "metadata": {},
   "source": [
    "Aufgabe 6 – Stichprobe I - zufällige Auswahl von Elementen\n",
    "\n",
    "Gegeben ist die Liste der Artikel: Badehosen, Langhosen, Kurzhosen, Wanderschuhe,\n",
    "Unterhosen, Skischuhe, Turnschuhe. Erstelle ein Pythonprogramm, welches dir jeweils 1, 2\n",
    "oder 3 Artikel zufällig aus diesen auswählt. Dieser Vorgang soll dreimal wiederholt werden.\n",
    "\n",
    "a) Bei jeder Auswahl eines Artikels wird dieser wieder zurückgelegt, so dass gleiche Artikel\n",
    "mehrfach vorkommen dürfen."
   ]
  },
  {
   "cell_type": "code",
   "execution_count": 184,
   "id": "d3f02118",
   "metadata": {},
   "outputs": [
    {
     "name": "stdout",
     "output_type": "stream",
     "text": [
      "\n",
      "Ziehung von 1 Artikel(n) (mit Zurücklegen):\n",
      "  Ziehung 1: ['Badehosen']\n",
      "  Ziehung 2: ['Langhosen']\n",
      "  Ziehung 3: ['Badehosen']\n",
      "\n",
      "Ziehung von 2 Artikel(n) (mit Zurücklegen):\n",
      "  Ziehung 1: ['Skischuhe', 'Wanderschuhe']\n",
      "  Ziehung 2: ['Wanderschuhe', 'Badehosen']\n",
      "  Ziehung 3: ['Unterhosen', 'Unterhosen']\n",
      "\n",
      "Ziehung von 3 Artikel(n) (mit Zurücklegen):\n",
      "  Ziehung 1: ['Wanderschuhe', 'Langhosen', 'Turnschuhe']\n",
      "  Ziehung 2: ['Badehosen', 'Badehosen', 'Badehosen']\n",
      "  Ziehung 3: ['Kurzhosen', 'Turnschuhe', 'Badehosen']\n"
     ]
    }
   ],
   "source": [
    "import random\n",
    "\n",
    "artikel = ['Badehosen', 'Langhosen', 'Kurzhosen', 'Wanderschuhe', 'Unterhosen', 'Skischuhe', 'Turnschuhe']\n",
    "\n",
    "# Funktion für die Ziehung mit Zurücklegen\n",
    "def ziehung_mit_zuruecklegen(artikel_liste, anzahl):\n",
    "    return [random.choice(artikel_liste) for _ in range(anzahl)]\n",
    "\n",
    "# Dreimal jeweils 1, 2 und 3 Artikel ziehen\n",
    "for n in [1, 2, 3]:\n",
    "    print(f\"\\nZiehung von {n} Artikel(n) (mit Zurücklegen):\")\n",
    "    for i in range(3):\n",
    "        gezogen = ziehung_mit_zuruecklegen(artikel, n)\n",
    "        print(f\"  Ziehung {i+1}: {gezogen}\")"
   ]
  },
  {
   "cell_type": "markdown",
   "id": "7c8f0ffb",
   "metadata": {},
   "source": [
    "b) Nach der Auswahl eines Artikels in einem Vorgang, darf ein Artikel nicht mehrfach\n",
    "ausgewählt werden."
   ]
  },
  {
   "cell_type": "code",
   "execution_count": 185,
   "id": "0b3263b3",
   "metadata": {},
   "outputs": [
    {
     "name": "stdout",
     "output_type": "stream",
     "text": [
      "\n",
      "Ziehung von 1 Artikel(n) (ohne Zurücklegen):\n",
      "  Ziehung 1: ['Skischuhe']\n",
      "  Ziehung 2: ['Langhosen']\n",
      "  Ziehung 3: ['Badehosen']\n",
      "\n",
      "Ziehung von 2 Artikel(n) (ohne Zurücklegen):\n",
      "  Ziehung 1: ['Skischuhe', 'Turnschuhe']\n",
      "  Ziehung 2: ['Langhosen', 'Unterhosen']\n",
      "  Ziehung 3: ['Kurzhosen', 'Badehosen']\n",
      "\n",
      "Ziehung von 3 Artikel(n) (ohne Zurücklegen):\n",
      "  Ziehung 1: ['Turnschuhe', 'Skischuhe', 'Wanderschuhe']\n",
      "  Ziehung 2: ['Langhosen', 'Wanderschuhe', 'Badehosen']\n",
      "  Ziehung 3: ['Skischuhe', 'Turnschuhe', 'Kurzhosen']\n"
     ]
    }
   ],
   "source": [
    "# Funktion für die Ziehung ohne Zurücklegen\n",
    "def ziehung_ohne_zuruecklegen(artikel_liste, anzahl):\n",
    "    return random.sample(artikel_liste, anzahl)\n",
    "\n",
    "# Dreimal jeweils 1, 2 und 3 Artikel ziehen (ohne Zurücklegen)\n",
    "for n in [1, 2, 3]:\n",
    "    print(f\"\\nZiehung von {n} Artikel(n) (ohne Zurücklegen):\")\n",
    "    for i in range(3):\n",
    "        gezogen = ziehung_ohne_zuruecklegen(artikel, n)\n",
    "        print(f\"  Ziehung {i+1}: {gezogen}\")"
   ]
  },
  {
   "cell_type": "markdown",
   "id": "5dd8d91e",
   "metadata": {},
   "source": [
    "c) Wie können jeweils die Anzahl Möglichkeiten berechnet werden?\n",
    "Variante 1: Mit Hilfe des Moduls «numpy».\n",
    "Variante 2: Gibt es noch eine andere Möglichkeit? Versuche es mit den Modulen «itertools»\n",
    "und «math»."
   ]
  },
  {
   "cell_type": "code",
   "execution_count": 190,
   "id": "e24f08a4",
   "metadata": {},
   "outputs": [
    {
     "name": "stdout",
     "output_type": "stream",
     "text": [
      "\n",
      "Ziehung von 1 Artikel(n):\n",
      "  Mit Zurücklegen (numpy): 7\n",
      "  Ohne Zurücklegen (numpy): 7\n",
      "  Mit Zurücklegen (math): 7\n",
      "  Ohne Zurücklegen (math): 7\n",
      "  Mit Zurücklegen (itertools): 7\n",
      "  Ohne Zurücklegen (itertools): 7\n",
      "\n",
      "Ziehung von 2 Artikel(n):\n",
      "  Mit Zurücklegen (numpy): 49\n",
      "  Ohne Zurücklegen (numpy): 42\n",
      "  Mit Zurücklegen (math): 49\n",
      "  Ohne Zurücklegen (math): 42\n",
      "  Mit Zurücklegen (itertools): 49\n",
      "  Ohne Zurücklegen (itertools): 42\n",
      "\n",
      "Ziehung von 3 Artikel(n):\n",
      "  Mit Zurücklegen (numpy): 343\n",
      "  Ohne Zurücklegen (numpy): 210\n",
      "  Mit Zurücklegen (math): 343\n",
      "  Ohne Zurücklegen (math): 210\n",
      "  Mit Zurücklegen (itertools): 343\n",
      "  Ohne Zurücklegen (itertools): 210\n"
     ]
    }
   ],
   "source": [
    "import numpy as np\n",
    "import itertools\n",
    "import math\n",
    "\n",
    "n_artikel = len(artikel)\n",
    "\n",
    "# Variante 1: Mit numpy (Kombinationen und Permutationen)\n",
    "\n",
    "def anzahl_moeglichkeiten_numpy(n, k, mit_zuruecklegen=True):\n",
    "    if mit_zuruecklegen:\n",
    "        return np.power(n, k)\n",
    "    else:\n",
    "        # n! / (n - k)! = prod(n - i) for i in range(k)\n",
    "        if k > n:\n",
    "            return 0\n",
    "        return np.prod(np.arange(n, n - k, -1))\n",
    "    \n",
    "\n",
    "# variante 2: math\n",
    "def anzahl_moeglichkeiten_math(n, k, mit_zuruecklegen=True):\n",
    "    if mit_zuruecklegen:\n",
    "        # Ziehen mit Zurücklegen: n^k Möglichkeiten\n",
    "        return n ** k\n",
    "    else:\n",
    "        # Ziehen ohne Zurücklegen: n! / (n-k)!\n",
    "        return math.perm(n, k)\n",
    "\n",
    "# Variante 2: Mit itertools und math\n",
    "def anzahl_moeglichkeiten_itertools(n, k, mit_zuruecklegen=True):\n",
    "    if mit_zuruecklegen:\n",
    "        # Produkt mit Wiederholung\n",
    "        return len(list(itertools.product(range(n), repeat=k)))\n",
    "    else:\n",
    "        # Permutationen ohne Wiederholung\n",
    "        return len(list(itertools.permutations(range(n), k)))\n",
    "\n",
    "# Beispiel: Anzahl Möglichkeiten für 1, 2, 3 Artikel\n",
    "for k in [1, 2, 3]:\n",
    "    print(f\"\\nZiehung von {k} Artikel(n):\")\n",
    "    print(f\"  Mit Zurücklegen (numpy): {anzahl_moeglichkeiten_numpy(n_artikel, k, True)}\")\n",
    "    print(f\"  Ohne Zurücklegen (numpy): {anzahl_moeglichkeiten_numpy(n_artikel, k, False)}\")\n",
    "    print(f\"  Mit Zurücklegen (math): {anzahl_moeglichkeiten_math(n_artikel, k, True)}\")\n",
    "    print(f\"  Ohne Zurücklegen (math): {anzahl_moeglichkeiten_math(n_artikel, k, False)}\")\n",
    "    print(f\"  Mit Zurücklegen (itertools): {anzahl_moeglichkeiten_itertools(n_artikel, k, True)}\")\n",
    "    print(f\"  Ohne Zurücklegen (itertools): {anzahl_moeglichkeiten_itertools(n_artikel, k, False)}\")"
   ]
  }
 ],
 "metadata": {
  "kernelspec": {
   "display_name": ".venv",
   "language": "python",
   "name": "python3"
  },
  "language_info": {
   "codemirror_mode": {
    "name": "ipython",
    "version": 3
   },
   "file_extension": ".py",
   "mimetype": "text/x-python",
   "name": "python",
   "nbconvert_exporter": "python",
   "pygments_lexer": "ipython3",
   "version": "3.9.6"
  }
 },
 "nbformat": 4,
 "nbformat_minor": 5
}
