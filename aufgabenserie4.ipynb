{
 "cells": [
  {
   "cell_type": "markdown",
   "id": "c432a906",
   "metadata": {},
   "source": [
    "Übungsserie 4: 22.05.2025\n",
    "\n",
    "Thema «Python lernen» - Grundlagen, einfache Algorithmen und Statistik"
   ]
  },
  {
   "cell_type": "markdown",
   "id": "18f916f5",
   "metadata": {},
   "source": [
    "Aufgabe 1 – Daten visualisieren - Balkendiagramme\n",
    "\n",
    "Es soll der Kaffeekonsum grafisch dargestellt werden. Dabei soll ein Balkendiagramm\n",
    "angewendet werden. Die Daten lauten wie folgt: Christian:7, Dres:11, Fabian:3, Jerom:5, Roy:2, Shan:2, Thomas:9. Die Zahl nach dem Doppelpunkt bedeutet die konsumierte\n",
    "Portionenmenge Kaffee.\n",
    "\n",
    "a) Erstelle ein Python-Programm, welches dir diese daten visuell darstellt."
   ]
  },
  {
   "cell_type": "code",
   "execution_count": 3,
   "id": "7f8e9c83",
   "metadata": {},
   "outputs": [
    {
     "data": {
      "image/png": "[encoded data removed]",
      "text/plain": [
       "<Figure size 640x480 with 1 Axes>"
      ]
     },
     "metadata": {},
     "output_type": "display_data"
    }
   ],
   "source": [
    "import matplotlib.pyplot as plt\n",
    "\n",
    "# Daten\n",
    "namen = ['Christian', 'Dres', 'Fabian', 'Jerom', 'Roy', 'Shan', 'Thomas']\n",
    "kaffee = [7, 11, 3, 5, 2, 2, 9]\n",
    "\n",
    "# Balkendiagramm erstellen\n",
    "plt.bar(namen, kaffee)\n",
    "plt.xlabel('Personen')\n",
    "plt.ylabel('Kaffeekonsum')\n",
    "plt.title('Kaffeekonsum pro Person')\n",
    "plt.show()"
   ]
  },
  {
   "cell_type": "markdown",
   "id": "7675a3b3",
   "metadata": {},
   "source": [
    "b) Berechne die Lage- (Arithmetischer Mittelwert, Median) und Streumasse (Spannweite, Standardabweichung."
   ]
  },
  {
   "cell_type": "code",
   "execution_count": 8,
   "id": "6771811d",
   "metadata": {},
   "outputs": [
    {
     "name": "stdout",
     "output_type": "stream",
     "text": [
      "Arithmetischer Mittelwert: 5.571428571428571\n",
      "Median: 5.0\n",
      "Spannweite: 9\n",
      "Standardabweichung: 3.2888184094918107\n"
     ]
    }
   ],
   "source": [
    "import numpy as np\n",
    "\n",
    "# Arithmetischer Mittelwert\n",
    "mittelwert = np.mean(kaffee)\n",
    "\n",
    "# Median\n",
    "median = np.median(kaffee)\n",
    "\n",
    "# Spannweite\n",
    "spannweite = np.max(kaffee) - np.min(kaffee)\n",
    "\n",
    "# Standardabweichung\n",
    "standardabweichung = np.std(kaffee, ddof=0)\n",
    "\n",
    "print(f\"Arithmetischer Mittelwert: {mittelwert}\")\n",
    "print(f\"Median: {median}\")\n",
    "print(f\"Spannweite: {spannweite}\")\n",
    "print(f\"Standardabweichung: {standardabweichung}\")"
   ]
  },
  {
   "cell_type": "markdown",
   "id": "f13ac7b1",
   "metadata": {},
   "source": [
    "Aufgabe 2 – Daten auswerten und vergleichen (AM / Median), Ausreisser\n",
    "\n",
    "Es soll der Einfluss eines sogenannten «Ausreissers» festgestellt werden.\n",
    "Die Daten lauten wie folgt: [8.04, 6.95, 7.58, 8.81, 8.33, 9.96, 7.24, 4.26, 10.84, 4.82, 5.68].\n",
    "\n",
    "a) Berechne mit Hilfe des Moduls «statistics» das arithmetische Mittel und den Median."
   ]
  },
  {
   "cell_type": "code",
   "execution_count": null,
   "id": "f80e6afb",
   "metadata": {},
   "outputs": [],
   "source": [
    "example_data = [8.04, 6.95, 7.58, 8.81, 8.33, 9.96, 7.24, 4.26, 10.84, 4.82, 5.68]"
   ]
  },
  {
   "cell_type": "code",
   "execution_count": 13,
   "id": "fb110a23",
   "metadata": {},
   "outputs": [
    {
     "name": "stdout",
     "output_type": "stream",
     "text": [
      "Arithmetisches Mittel: 7.500909090909091\n",
      "Median: 7.58\n"
     ]
    }
   ],
   "source": [
    "import statistics\n",
    "\n",
    "arith_mittel = statistics.mean(example_data)\n",
    "median_wert = statistics.median(example_data)\n",
    "\n",
    "print(f\"Arithmetisches Mittel: {arith_mittel}\")\n",
    "print(f\"Median: {median_wert}\")"
   ]
  },
  {
   "cell_type": "markdown",
   "id": "aa37976f",
   "metadata": {},
   "source": [
    "b) Jetzt fügst du den Daten einen weiteren Wert «100.0» dazu und berechnest wiederum das\n",
    "arithmetische Mittel und den Median."
   ]
  },
  {
   "cell_type": "code",
   "execution_count": 14,
   "id": "9c078306",
   "metadata": {},
   "outputs": [
    {
     "name": "stdout",
     "output_type": "stream",
     "text": [
      "Arithmetisches Mittel mit Ausreißer: 15.209166666666667\n",
      "Median mit Ausreißer: 7.81\n"
     ]
    }
   ],
   "source": [
    "# Neuen Wert hinzufügen\n",
    "example_data_mit_ausreisser = example_data + [100.0]\n",
    "\n",
    "# Arithmetisches Mittel und Median berechnen\n",
    "arith_mittel_ausreisser = statistics.mean(example_data_mit_ausreisser)\n",
    "median_ausreisser = statistics.median(example_data_mit_ausreisser)\n",
    "\n",
    "print(f\"Arithmetisches Mittel mit Ausreißer: {arith_mittel_ausreisser}\")\n",
    "print(f\"Median mit Ausreißer: {median_ausreisser}\")"
   ]
  },
  {
   "cell_type": "markdown",
   "id": "b3292830",
   "metadata": {},
   "source": [
    "c) Was stellst du beim Vergleich fest?"
   ]
  },
  {
   "cell_type": "code",
   "execution_count": 16,
   "id": "8e2097d1",
   "metadata": {},
   "outputs": [
    {
     "name": "stdout",
     "output_type": "stream",
     "text": [
      "Arithmetisches Mittel ohne Ausreißer: 7.50\n",
      "Arithmetisches Mittel mit Ausreißer: 15.21\n",
      "Median ohne Ausreißer: 7.58\n",
      "Median mit Ausreißer: 7.81\n",
      "\n",
      "Fazit:\n",
      "Das arithmetische Mittel wird durch den Ausreißer stark nach oben beeinflusst, während der Median nur geringfügig steigt. Der Median ist somit robuster gegenüber Ausreißern als das arithmetische Mittel.\n"
     ]
    }
   ],
   "source": [
    "# Vergleich der Kennzahlen mit und ohne Ausreißer\n",
    "print(f\"Arithmetisches Mittel ohne Ausreißer: {arith_mittel:.2f}\")\n",
    "print(f\"Arithmetisches Mittel mit Ausreißer: {arith_mittel_ausreisser:.2f}\")\n",
    "print(f\"Median ohne Ausreißer: {median_wert:.2f}\")\n",
    "print(f\"Median mit Ausreißer: {median_ausreisser:.2f}\")\n",
    "\n",
    "print(\"\\nFazit:\")\n",
    "print(\"Das arithmetische Mittel wird durch den Ausreißer stark nach oben beeinflusst, während der Median nur geringfügig steigt. Der Median ist somit robuster gegenüber Ausreißern als das arithmetische Mittel.\")"
   ]
  },
  {
   "cell_type": "markdown",
   "id": "dfda25f4",
   "metadata": {},
   "source": [
    "Aufgabe 3 – Daten auswerten und vergleichen (Stand.Abw. / IQR)\n",
    "\n",
    "Es soll der Einfluss eines sogenannten «Ausreissers» festgestellt werden. Die Daten lauten wie\n",
    "folgt: [8.04, 6.95, 7.58, 8.81, 8.33, 9.96, 7.24, 4.26, 10.84, 4.82, 5.68].\n",
    "\n",
    "a) Berechne mit Hilfe des Moduls «statistics» die Standardabweichung und den\n",
    "Interquartilsabstand (IQA oder IQR). Dazu kannst du auf das Modul «scipy» zurückgreifen."
   ]
  },
  {
   "cell_type": "code",
   "execution_count": 17,
   "id": "eaf5a35c",
   "metadata": {},
   "outputs": [
    {
     "name": "stdout",
     "output_type": "stream",
     "text": [
      "Standardabweichung: 2.031568135925815\n",
      "Interquartilsabstand (IQR): 2.255000000000001\n"
     ]
    }
   ],
   "source": [
    "from scipy import stats\n",
    "import statistics\n",
    "\n",
    "# Standardabweichung berechnen\n",
    "std_example = statistics.stdev(example_data)\n",
    "\n",
    "# Interquartilsabstand (IQR) berechnen\n",
    "iqr_example = stats.iqr(example_data)\n",
    "\n",
    "print(f\"Standardabweichung: {std_example}\")\n",
    "print(f\"Interquartilsabstand (IQR): {iqr_example}\")"
   ]
  },
  {
   "cell_type": "markdown",
   "id": "8e12d110",
   "metadata": {},
   "source": [
    "b) Jetzt fügst du den Daten einen weiteren Wert «100.0» dazu und berechnest wiederum das\n",
    "arithmetische Mittel und den Median."
   ]
  },
  {
   "cell_type": "code",
   "execution_count": 18,
   "id": "98ac7b22",
   "metadata": {},
   "outputs": [
    {
     "name": "stdout",
     "output_type": "stream",
     "text": [
      "Standardabweichung mit Ausreißer: 26.77235292350312\n",
      "Interquartilsabstand (IQR) mit Ausreißer: 2.465\n"
     ]
    }
   ],
   "source": [
    "# Standardabweichung und Interquartilsabstand (IQR) mit Ausreißer berechnen\n",
    "std_example_ausreisser = statistics.stdev(example_data_mit_ausreisser)\n",
    "iqr_example_ausreisser = stats.iqr(example_data_mit_ausreisser)\n",
    "\n",
    "print(f\"Standardabweichung mit Ausreißer: {std_example_ausreisser}\")\n",
    "print(f\"Interquartilsabstand (IQR) mit Ausreißer: {iqr_example_ausreisser}\")"
   ]
  },
  {
   "cell_type": "markdown",
   "id": "96cd979f",
   "metadata": {},
   "source": [
    "c) Was stellst du beim Vergleich fest?"
   ]
  },
  {
   "cell_type": "code",
   "execution_count": null,
   "id": "76f6a907",
   "metadata": {},
   "outputs": [],
   "source": [
    "# Vergleich der Streuungsmaße mit und ohne Ausreißer\n",
    "print(f\"Standardabweichung ohne Ausreißer: {std_example:.2f}\")\n",
    "print(f\"Standardabweichung mit Ausreißer: {std_example_ausreisser:.2f}\")\n",
    "print(f\"IQR ohne Ausreißer: {iqr_example:.2f}\")\n",
    "print(f\"IQR mit Ausreißer: {iqr_example_ausreisser:.2f}\")\n",
    "\n",
    "print(\"\\nFazit:\")\n",
    "print(\"Die Standardabweichung wird durch den Ausreißer stark erhöht, während der IQR (Interquartilsabstand) nur geringfügig beeinflusst wird. Der IQR ist somit robuster gegenüber Ausreißern als die Standardabweichung.\")"
   ]
  }
 ],
 "metadata": {
  "kernelspec": {
   "display_name": ".venv",
   "language": "python",
   "name": "python3"
  },
  "language_info": {
   "codemirror_mode": {
    "name": "ipython",
    "version": 3
   },
   "file_extension": ".py",
   "mimetype": "text/x-python",
   "name": "python",
   "nbconvert_exporter": "python",
   "pygments_lexer": "ipython3",
   "version": "3.9.6"
  }
 },
 "nbformat": 4,
 "nbformat_minor": 5
}
