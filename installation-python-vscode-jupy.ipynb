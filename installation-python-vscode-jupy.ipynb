{
 "cells": [
  {
   "cell_type": "markdown",
   "metadata": {},
   "source": [
    "# Installation\n",
    "## Python\n",
    "Der Name <b>Python</b> stammt von der britischen Komikergruppe [Monty Python](https://de.wikipedia.org/wiki/Monty_Python), welche diverse Kinofilme und die Fernsehserie <em>Monty Python's Flying Circus</em> produziert haben. Im untenstehenden Bild ist ein Schnappschuss am Drehort des Filmes <em>Das Leben des Brian</em> zu sehen:\n",
    " \n",
    "<a title=\"GIRAUD Patrick, CC BY-SA 2.5 &lt;https://creativecommons.org/licenses/by-sa/2.5&gt;, via Wikimedia Commons\" href=\"https://commons.wikimedia.org/wiki/File:TUNISIE_MONASTIR_RIBAT_03.jpg\"><img width=\"512\" alt=\"TUNISIE MONASTIR RIBAT 03\" src=\"https://upload.wikimedia.org/wikipedia/commons/thumb/0/0b/TUNISIE_MONASTIR_RIBAT_03.jpg/512px-TUNISIE_MONASTIR_RIBAT_03.jpg\"></a>\n",
    "<br>\n",
    "<br>\n",
    "Nun laden wir Python herunter.\n",
    "\n",
    "### Herunterladen - Python\n",
    "Auf der folgenden [Seite](https://www.python.org) sind entsprechende Informationen u.a. auch für den Download verfügbar:\n",
    "<ul>\n",
    "   <li> About </li>\n",
    "   <li> Downloads </li>\n",
    "   <ul>\n",
    "      <li>\n",
    "         <a href=\"https://www.python.org/downloads/windows/\"> Downloadlink für Windows </a>\n",
    "      </li>\n",
    "      <li>\n",
    "         <a href=\"https://www.python.org/downloads/macos/\"> Downloadlink für MacOSX </a>\n",
    "      </li>\n",
    "   </ul>\n",
    "   <li> Documentation </li>\n",
    "   <ul>\n",
    "      <li>\n",
    "         <a href=\"https://docs.python.org/3/\"> Python Docs </a>\n",
    "      </li>\n",
    "      <li> \n",
    "         <a href=\"https://wiki.python.org/moin/BeginnersGuide\"> Beginner's Guide to Python </a>\n",
    "      </li>\n",
    "      <li>\n",
    "         <a href=\"https://devguide.python.org\"> Developer's Guide </a>\n",
    "      </li>\n",
    "      <li>\n",
    "         <a href=\"https://wiki.python.org/moin/PythonBooks\"> Python Books </a>\n",
    "      </li>\n",
    "      <li>\n",
    "         <a href=\"https://docs.python.org/3/faq/\"> FAQ </a>\n",
    "      </li>\n",
    "   </ul>\n",
    "   <li> Community </li>\n",
    "   <ul>\n",
    "      <li>\n",
    "         <a href=\"https://www.python-forum.de\"> Forum - deutsch </a>\n",
    "      </li>\n",
    "      <li>\n",
    "         <a href=\"https://python-forum.io\"> Forum - englisch </a>\n",
    "      </li>\n",
    "   </ul>\n",
    "   <li> Success Stories </li>\n",
    "   <li> News </li>\n",
    "   <li> Events </li>\n",
    " </ul>\n"
   ]
  },
  {
   "cell_type": "markdown",
   "metadata": {},
   "source": [
    "## Visual Studio Code - IDE\n",
    "Nun können wir quasi noch den _Rahmen_ für unsere Pythonprogramme installieren, die sogenannte IDE oder integrierte Entwicklungsumgebung inklusive dem Quelltexteditor. Dieser ermöglicht uns die einfache Verwendung von sogenannten [Jupyter-Notebooks](https://jupyter.org). Das heisst, das <em>Lesen</em>, <em>Ausführen</em>, <em>Editieren</em> und auch <em>Erstellen</em> von Pythonprogrammen. Dazu gibt es zahlreiche Möglichkeiten. Die nötigen Informationen dazu findet man im Internet. Nachfolgend sind einige Varianten aufgelistet. \n",
    "1. [Jupyter-Tutorial](https://jupyter-tutorial.readthedocs.io/de/latest/first-steps/install.html) in Deutsch\n",
    "2. [Anaconda](https://www.anaconda.com)\n",
    "3. [Installing Jupyter](https://jupyter.org/install)\n",
    "3. [How to install Jupyter Notebook on Windows](https://www.geeksforgeeks.org/how-to-install-jupyter-notebook-in-windows/)\n",
    "\n",
    "Mein Vorschlag ist der sogenannte <em>Visual Studio Code</em>-Quelltexteditor oder kurz <em>VS Code-Editor</em>. Dieser liegt plattformübergreifend vor. Das heisst, er ist für die Betriebssysteme: Windows, Linux und mcOS verfügbar. Wie bereits erwähnt, gibt es zahlreiche andere Möglichkeiten, welche hier nicht besprochen werden. Der Vorteil in dieser vorgeschlagenen Variante, liegt in der Einfachheit der Erweiterungs- und Einsatz-Möglichkeiten. Die benötigten Installationsschritte sind nachfolgend aufgeführt."
   ]
  },
  {
   "attachments": {},
   "cell_type": "markdown",
   "metadata": {},
   "source": [
    "### Herunterladen - VS Code\n",
    "Auf der folgenden Seite [Visual Studio Code](https://code.visualstudio.com) gibt es zusätzliche Dokumentation zum Quelltext-Editor und dessen Einsatzmöglichkeiten. Nachfolgend sind die direkten Download-Links aufgeführt: \n",
    "<ul>\n",
    "   <li style=\"font-weight: normal;\">\n",
    "      <a href=\"https://code.visualstudio.com/docs/?dv=win64user\"> Downloadlink für Windows </a>\n",
    "   </li>\n",
    "      <li style=\"font-weight: normal;\">\n",
    "      <a href=\"https://code.visualstudio.com/docs/?dv=osx\"> Downloadlink für MacOSX </a>\n",
    "   </li>\n",
    " </ul>\n",
    " <br>\n",
    " Nach dem Herunterladen können wir die Installation durchführen und allenfalls direkt nach einem ersten Start der Software das bevorzugte Sprachpaket als eine Erweiterung installieren. Dies kann durch die Menueauswahl\n",
    "<pre><code>      File / Preferences / Extensions </code></pre>\n",
    "erfolgen. Nach Bedarf können zusätzliche Erweiterung installiert und aktiviert werden. Das Erweiterungspaket, welches uns die deutsche Sprache liefert, kann durch folgendes Klicken in VS Code installiert und aktiviert werden:\n",
    "<ul>\n",
    "   <li> Jupyter </li>\n",
    "   <li> Jupyter notebook extension for vscode </li>\n",
    "   <li> German Language Pack for Visual Studio Code </li>\n",
    "</ul>\n",
    "<br>"
   ]
  },
  {
   "attachments": {},
   "cell_type": "markdown",
   "metadata": {},
   "source": [
    " ## Installation und Test\n",
    " Nachdem wir nun Python und VS Code heruntergeladen haben, können wir die Installation durchführen. Dort ist auf dem ersten Dialogfenster UNBEDINGT der Punkt <em>Add Python ... to PATH</em> zu aktivieren. Zum Abschluss testen wir unsere Installation und können <em>VS Code</em> starten und diese Jupyter-Notebook-Datei öffnen und prüfen, ob es funktioniert hat. Allenfalls sind noch die Jupyter-Erweiterungen zu installieren und zu aktivieren. <br>\n",
    " Hier gilt es etwas Geduld aufzubringen. VS Code schlägt gewisse Installationen von Erweiterungen automatisch vor.<br>\n",
    " Hat dies auch geklappt, so können wir nun noch eine kurze Testrechnung durchführen und geben dazu die einfache Berechnung wie folgt ein:\n",
    " <pre><code>      > 5 + 6 [shift] + [enter]</code></pre>"
   ]
  },
  {
   "cell_type": "code",
   "execution_count": 6,
   "metadata": {},
   "outputs": [
    {
     "data": {
      "text/plain": [
       "11"
      ]
     },
     "execution_count": 6,
     "metadata": {},
     "output_type": "execute_result"
    }
   ],
   "source": [
    "# gib deine Testrechnung anschliessend ein und bestätige die Eingabe durch gleichzeitiges Drücken der beiden Tasten: Shift und Enter\n",
    "5+6"
   ]
  },
  {
   "cell_type": "markdown",
   "metadata": {},
   "source": [
    "Jetzt noch ein Teil, mit welchem überprüft werden kann, ob die Nachinstallation von Bibliotheken klappt. Dazu kannst du direkt in VS-Code ein neues __Terminalfenster__ öffnen und dort (Windows) eingeben:\n",
    "\n",
    "<pre><code>pip install numpy</code></pre>"
   ]
  },
  {
   "cell_type": "markdown",
   "metadata": {},
   "source": [
    "In VS-Code kannst du diesen Code durch Klicken auf den \"Ausführ\"-Button oder durch Drücken der Tastenkombination: _SHIFT-ENTER_ ausführen. Wir importieren die Bibliothek \"numpy\" und erzeugen einen sogenannten Alias, mit welchem wir anschliessend auf die Befehle zugreifen können. Dieser Alias dient nur der Vereinfachung. Anstatt den vollen Namen \"numpy\" zu verwenden, können wir jetzt kurz \"np\" schreiben."
   ]
  },
  {
   "cell_type": "code",
   "execution_count": 7,
   "metadata": {},
   "outputs": [
    {
     "name": "stdout",
     "output_type": "stream",
     "text": [
      "3.0\n"
     ]
    }
   ],
   "source": [
    "import numpy as np\n",
    "\n",
    "daten = [1, 2, 3, 4, 5]\n",
    "\n",
    "print(np.mean(daten))"
   ]
  },
  {
   "cell_type": "markdown",
   "metadata": {},
   "source": [
    "Glückwunsch!!<br>\n",
    "Wenn alles richtig gelaufen ist, solltest du jetzt die Resultate:\n",
    "-  11\n",
    "\n",
    "-  3.0\n",
    "\n",
    "deiner Testrechnungen erkennen und wir sind mit der Installation fertig."
   ]
  }
 ],
 "metadata": {
  "kernelspec": {
   "display_name": ".venv",
   "language": "python",
   "name": "python3"
  },
  "language_info": {
   "codemirror_mode": {
    "name": "ipython",
    "version": 3
   },
   "file_extension": ".py",
   "mimetype": "text/x-python",
   "name": "python",
   "nbconvert_exporter": "python",
   "pygments_lexer": "ipython3",
   "version": "3.9.6"
  }
 },
 "nbformat": 4,
 "nbformat_minor": 2
}
