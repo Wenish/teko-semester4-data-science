{
 "cells": [
  {
   "cell_type": "code",
   "execution_count": 16,
   "id": "fa68c300",
   "metadata": {},
   "outputs": [
    {
     "name": "stdout",
     "output_type": "stream",
     "text": [
      "34\n"
     ]
    }
   ],
   "source": [
    "import random\n",
    "\n",
    "# Generiere eine Zufallszahl zwischen 1 und 49\n",
    "zufallszahl = random.randint(1, 49)\n",
    "print(zufallszahl)"
   ]
  },
  {
   "cell_type": "markdown",
   "id": "d8c33163",
   "metadata": {},
   "source": [
    "Was gibt das folgende Programm aus? \n",
    "\n",
    " \n",
    "\n",
    "wordlist1 = ['Python', 'ist', 'cool'] \n",
    "\n",
    "wordlist2 = wordlist1 \n",
    "\n",
    "wordlist1.insert (2, 'total') \n",
    "\n",
    "print (wordlist1) \n",
    "\n",
    "print (wordlist2) "
   ]
  },
  {
   "cell_type": "code",
   "execution_count": 18,
   "id": "deb0ce47",
   "metadata": {},
   "outputs": [
    {
     "name": "stdout",
     "output_type": "stream",
     "text": [
      "['Python', 'ist', 'total', 'cool']\n",
      "['Python', 'ist', 'total', 'cool']\n"
     ]
    }
   ],
   "source": [
    "wordlist1 = ['Python', 'ist', 'cool']\n",
    "wordlist2 = wordlist1\n",
    "wordlist1.insert(2, 'total')\n",
    "\n",
    "print(wordlist1)\n",
    "print(wordlist2)"
   ]
  },
  {
   "cell_type": "markdown",
   "id": "9f631693",
   "metadata": {},
   "source": [
    " \n",
    "\n",
    "Extrahiere aus der folgenden Zeichenkette den \"englisch: tag; also: wichtig\" zwischen den eckigen Klammern: \n",
    "\n",
    " \n",
    "\n",
    "bla [wichtig] mehr bla \n",
    "\n",
    " "
   ]
  },
  {
   "cell_type": "code",
   "execution_count": 21,
   "id": "7b5c3274",
   "metadata": {},
   "outputs": [
    {
     "name": "stdout",
     "output_type": "stream",
     "text": [
      "wichtig\n"
     ]
    }
   ],
   "source": [
    "import re\n",
    "\n",
    "text = \"bla [wichtig] mehr bla\"\n",
    "match = re.search(r'\\[(.*?)\\]', text)\n",
    "if match:\n",
    "    result = match.group(1)\n",
    "    print(result)"
   ]
  }
 ],
 "metadata": {
  "kernelspec": {
   "display_name": ".venv",
   "language": "python",
   "name": "python3"
  },
  "language_info": {
   "codemirror_mode": {
    "name": "ipython",
    "version": 3
   },
   "file_extension": ".py",
   "mimetype": "text/x-python",
   "name": "python",
   "nbconvert_exporter": "python",
   "pygments_lexer": "ipython3",
   "version": "3.9.6"
  }
 },
 "nbformat": 4,
 "nbformat_minor": 5
}
