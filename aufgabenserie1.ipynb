{
 "cells": [
  {
   "cell_type": "markdown",
   "id": "567dd9e7",
   "metadata": {},
   "source": [
    "Aufgabe 1"
   ]
  },
  {
   "cell_type": "code",
   "execution_count": null,
   "id": "4ec00e61",
   "metadata": {},
   "outputs": [
    {
     "name": "stdout",
     "output_type": "stream",
     "text": [
      "Die ganzzahlige Division von a und b ergibt:  1\n",
      "Der Rest der ganzzahligen Division von a und b ergibt:  0\n"
     ]
    }
   ],
   "source": [
    "a = int(input(\"Gib Zahl a ein: \"))\n",
    " \n",
    "b = int(input(\"Gib Zahl b ein: \"))\n",
    " \n",
    "print(\"Die ganzzahlige Division von a und b ergibt: \", a // b)\n",
    "print(\"Der Rest der ganzzahligen Division von a und b ergibt: \", a % b)"
   ]
  },
  {
   "cell_type": "markdown",
   "id": "fc33a7fe",
   "metadata": {},
   "source": [
    "Aufgabe 2"
   ]
  },
  {
   "cell_type": "code",
   "execution_count": null,
   "id": "d34bf9e5",
   "metadata": {},
   "outputs": [
    {
     "name": "stdout",
     "output_type": "stream",
     "text": [
      "Die Zahl ist:  ungerade\n"
     ]
    }
   ],
   "source": [
    " \n",
    "a = int(input(\"Gib eine Zahl ein: \"))\n",
    " \n",
    "print(\"Die Zahl ist: \", \"gerade\" if a % 2 == 0 else \"ungerade\")"
   ]
  },
  {
   "cell_type": "markdown",
   "id": "a62fc679",
   "metadata": {},
   "source": [
    "Aufgabe 3"
   ]
  },
  {
   "cell_type": "markdown",
   "id": "1fb69671",
   "metadata": {},
   "source": [
    "Formel Seitenlänge: m = √((R - r)² + h²)\n",
    "Formel Mantelfläche: A_M = π * m * (R + r)\n"
   ]
  },
  {
   "cell_type": "code",
   "execution_count": null,
   "id": "15244814",
   "metadata": {},
   "outputs": [
    {
     "name": "stdout",
     "output_type": "stream",
     "text": [
      "Der Flächeninhalt s der Mantelfläche beträgt: 295.042\n"
     ]
    }
   ],
   "source": [
    "import math\n",
    "\n",
    "# Werte für R, r und h definieren\n",
    "R = 10  # Beispielwert für den Radius oben\n",
    "r = 4  # Beispielwert für den Radius unten\n",
    "h = 3  # Beispielwert für die Höhe\n",
    "\n",
    "# Seitenlänge m berechnen\n",
    "m = math.sqrt((R - r)**2 + h**2)\n",
    "\n",
    "# Mantelfläche A_M berechnen\n",
    "A_M = math.pi * m * (R + r)\n",
    "\n",
    "# Flächeninhalt s der Mantelfläche\n",
    "s = round(A_M, 3)\n",
    "print(\"Der Flächeninhalt s der Mantelfläche beträgt:\", s)"
   ]
  },
  {
   "cell_type": "markdown",
   "id": "341bc579",
   "metadata": {},
   "source": [
    "Aufgabe 4 - Zeichenketten\n",
    "\n",
    "Gegeben ist die folgende Zeichenkette: ‘Sesam oeffne dich!’\n",
    "\n",
    "a) Schreibe ein Pythonprogramm, mit welchem du ein Zeichen einlesen und feststellen\n",
    "kannst, ob dieses in der gegebenen Zeichenkette vorkommt.\n",
    "\n",
    "b) Erweitere dein Programm so, dass es dir die Position in der Zeichenkette ausgibt, an\n",
    "welcher das Zeichen zum ersten Mal auftritt.\n",
    "\n",
    "c) Erweitere das Programm so, dass du die Reihenfolge der Zeichen in der Zeichenkette in\n",
    "umgekehrter Reihenfolge ausgibst."
   ]
  },
  {
   "cell_type": "code",
   "execution_count": 7,
   "id": "57cb5dd6",
   "metadata": {},
   "outputs": [
    {
     "name": "stdout",
     "output_type": "stream",
     "text": [
      "Das Zeichen 'hallo' kommt in der Zeichenkette nicht vor.\n"
     ]
    }
   ],
   "source": [
    "text = 'Sesam oeffne dich!'\n",
    "zeichen = input(\"Gib ein Zeichen ein: \")\n",
    "\n",
    "if zeichen in text:\n",
    "    print(f\"Das Zeichen '{zeichen}' kommt in der Zeichenkette vor.\")\n",
    "else:\n",
    "    print(f\"Das Zeichen '{zeichen}' kommt in der Zeichenkette nicht vor.\")"
   ]
  },
  {
   "cell_type": "code",
   "execution_count": 8,
   "id": "ba84d670",
   "metadata": {},
   "outputs": [
    {
     "name": "stdout",
     "output_type": "stream",
     "text": [
      "Das Zeichen 'hallo' kommt in der Zeichenkette nicht vor.\n"
     ]
    }
   ],
   "source": [
    "if zeichen in text:\n",
    "    position = text.find(zeichen)\n",
    "    print(f\"Das Zeichen '{zeichen}' kommt in der Zeichenkette vor.\")\n",
    "    print(f\"Es tritt zum ersten Mal an Position {position} auf.\")\n",
    "else:\n",
    "    print(f\"Das Zeichen '{zeichen}' kommt in der Zeichenkette nicht vor.\")"
   ]
  },
  {
   "cell_type": "code",
   "execution_count": 9,
   "id": "a9a5f4a3",
   "metadata": {},
   "outputs": [
    {
     "name": "stdout",
     "output_type": "stream",
     "text": [
      "Die Zeichenkette in umgekehrter Reihenfolge lautet: !hcid enffeo maseS\n"
     ]
    }
   ],
   "source": [
    "umgekehrt = text[::-1]\n",
    "print(\"Die Zeichenkette in umgekehrter Reihenfolge lautet:\", umgekehrt)"
   ]
  },
  {
   "cell_type": "markdown",
   "id": "c503fdda",
   "metadata": {},
   "source": [
    "Aufgabe 5 – Mengen / Sets\n",
    "Gegeben sind die folgenden drei Teilmengen der natürlichen Zahlen:\n",
    "• 𝑈 = {1, 3, 5, 7, 9, 11, 13}\n",
    "• 𝐺 = {2, 4, 6, 8, 10, 12, 14}\n",
    "• 𝑃 = {1, 3, 5, 7, 11, 13, 17, 19, 23}\n",
    "\n",
    "Bilde mit einem Python-Programm:\n",
    "\n",
    "a) die Vereinigungsmenge 𝑉 = 𝑈 ⋃ 𝐺\n",
    "\n",
    "b) die Schnittmenge 𝑆 = 𝑈 ⋂ 𝑃\n",
    "\n",
    "c) die Differenzmenge 𝐷 = 𝑃 ∖ 𝑈\n",
    "und gib deren Elemente aus."
   ]
  },
  {
   "cell_type": "code",
   "execution_count": 10,
   "id": "2e044989",
   "metadata": {},
   "outputs": [
    {
     "name": "stdout",
     "output_type": "stream",
     "text": [
      "Vereinigungsmenge V = {1, 2, 3, 4, 5, 6, 7, 8, 9, 10, 11, 12, 13, 14}\n",
      "Schnittmenge S = {1, 3, 5, 7, 11, 13}\n",
      "Differenzmenge D = {17, 19, 23}\n"
     ]
    }
   ],
   "source": [
    "# Mengen definieren\n",
    "U = {1, 3, 5, 7, 9, 11, 13}\n",
    "G = {2, 4, 6, 8, 10, 12, 14}\n",
    "P = {1, 3, 5, 7, 11, 13, 17, 19, 23}\n",
    "\n",
    "# a) Vereinigungsmenge V = U ∪ G\n",
    "V = U.union(G)\n",
    "print(\"Vereinigungsmenge V =\", V)\n",
    "\n",
    "# b) Schnittmenge S = U ∩ P\n",
    "S = U.intersection(P)\n",
    "print(\"Schnittmenge S =\", S)\n",
    "\n",
    "# c) Differenzmenge D = P \\ U\n",
    "D = P.difference(U)\n",
    "print(\"Differenzmenge D =\", D)"
   ]
  },
  {
   "cell_type": "markdown",
   "id": "bf656c73",
   "metadata": {},
   "source": [
    "Aufgabe 6 - Bruchrechnen\n",
    "Berechne folgende Bruchoperationen, indem du die folgenden Importbefehl verwendest:\n",
    "from fractions import Fraction. Jetzt kannst du mit Brüchen wie folgt rechnen: Fraction(5, 6) +\n",
    "Fraction(1, 3). Bestimme eigene Beispiele."
   ]
  },
  {
   "cell_type": "code",
   "execution_count": 12,
   "id": "69ef6e6d",
   "metadata": {},
   "outputs": [
    {
     "name": "stdout",
     "output_type": "stream",
     "text": [
      "5/6 + 1/3 = 7/6\n",
      "7/8 - 1/4 = 5/8\n",
      "2/5 * 3/7 = 6/35\n",
      "4/9 ÷ 2/3 = 2/3\n"
     ]
    }
   ],
   "source": [
    "from fractions import Fraction\n",
    "\n",
    "# Beispiel 1: Addition\n",
    "ergebnis1 = Fraction(5, 6) + Fraction(1, 3)\n",
    "print(\"5/6 + 1/3 =\", ergebnis1)\n",
    "\n",
    "# Beispiel 2: Subtraktion\n",
    "ergebnis2 = Fraction(7, 8) - Fraction(1, 4)\n",
    "print(\"7/8 - 1/4 =\", ergebnis2)\n",
    "\n",
    "# Beispiel 3: Multiplikation\n",
    "ergebnis3 = Fraction(2, 5) * Fraction(3, 7)\n",
    "print(\"2/5 * 3/7 =\", ergebnis3)\n",
    "\n",
    "# Beispiel 4: Division\n",
    "ergebnis4 = Fraction(4, 9) / Fraction(2, 3)\n",
    "print(\"4/9 ÷ 2/3 =\", ergebnis4)"
   ]
  },
  {
   "cell_type": "markdown",
   "id": "88bdb66e",
   "metadata": {},
   "source": [
    "Aufgabe 7 – Verzweigungen\n",
    "Erstelle ein Pythonprogramm, mit welchem du quadratische Gleichungen lösen kannst. Nach\n",
    "der Eingabe der Koeffizienten 𝑎, 𝑏 und 𝑐 soll das Programm die Lösungen ausgeben oder,\n",
    "falls es keine gibt, die Antwort ‘es gibt keine reellen Lösungen’ ausgeben."
   ]
  },
  {
   "cell_type": "code",
   "execution_count": 16,
   "id": "d0c32bd7",
   "metadata": {},
   "outputs": [
    {
     "name": "stdout",
     "output_type": "stream",
     "text": [
      "Es gibt eine doppelte Lösung: x = -1.0\n"
     ]
    }
   ],
   "source": [
    "import math\n",
    "\n",
    "a = float(input(\"Gib den Koeffizienten a ein: \"))\n",
    "b = float(input(\"Gib den Koeffizienten b ein: \"))\n",
    "c = float(input(\"Gib den Koeffizienten c ein: \"))\n",
    "\n",
    "diskriminante = b**2 - 4*a*c\n",
    "\n",
    "if diskriminante > 0:\n",
    "    x1 = (-b + math.sqrt(diskriminante)) / (2*a)\n",
    "    x2 = (-b - math.sqrt(diskriminante)) / (2*a)\n",
    "    print(f\"Die Lösungen sind x1 = {x1} und x2 = {x2}\")\n",
    "elif diskriminante == 0:\n",
    "    x = -b / (2*a)\n",
    "    print(f\"Es gibt eine doppelte Lösung: x = {x}\")\n",
    "else:\n",
    "    print(\"Es gibt keine reellen Lösungen\")"
   ]
  },
  {
   "cell_type": "markdown",
   "id": "4da669ad",
   "metadata": {},
   "source": [
    "Aufgabe 8 – Additionen, Schleifen\n",
    "\n",
    "Ermittle mit einem Python-Programm die Summe der n ersten natürlichen Zahlen. Wie viele\n",
    "Lösungsmöglichkeiten kannst du erkennen? Setze möglichst alle mit einem Python-\n",
    "Programm um. Ändere deine Programme so ab, dass du jeweils die Zahl n via input-Befehl\n",
    "eingeben kannst."
   ]
  },
  {
   "cell_type": "code",
   "execution_count": 17,
   "id": "b3d95523",
   "metadata": {},
   "outputs": [
    {
     "name": "stdout",
     "output_type": "stream",
     "text": [
      "Summe mit for-Schleife: 15\n",
      "Summe mit while-Schleife: 15\n",
      "Summe mit Summenformel: 15\n",
      "Summe mit sum(): 15\n"
     ]
    }
   ],
   "source": [
    "# Lösung 1: Mit einer for-Schleife\n",
    "n = int(input(\"Gib die Zahl n ein: \"))\n",
    "summe_for = 0\n",
    "for i in range(1, n + 1):\n",
    "    summe_for += i\n",
    "print(\"Summe mit for-Schleife:\", summe_for)\n",
    "\n",
    "# Lösung 2: Mit einer while-Schleife\n",
    "summe_while = 0\n",
    "i = 1\n",
    "while i <= n:\n",
    "    summe_while += i\n",
    "    i += 1\n",
    "print(\"Summe mit while-Schleife:\", summe_while)\n",
    "\n",
    "# Lösung 3: Mit der Summenformel\n",
    "summe_formel = n * (n + 1) // 2\n",
    "print(\"Summe mit Summenformel:\", summe_formel)\n",
    "\n",
    "# Lösung 4: Mit der built-in Funktion sum()\n",
    "summe_sum = sum(range(1, n + 1))\n",
    "print(\"Summe mit sum():\", summe_sum)"
   ]
  },
  {
   "cell_type": "markdown",
   "id": "32e26dd4",
   "metadata": {},
   "source": [
    "Aufgabe 9 – Zufallszahlen, Schleifen\n",
    "\n",
    "a) Erstelle eine Liste mit 50 Zufallszahlen zwischen 0 (inklusive) und 10 (inklusive).\n",
    "\n",
    "b) Berechne dann die Summe aller Elemente.\n",
    "\n",
    "c) Zähle, wie oft der Wert 0 vorkommt.\n",
    "\n",
    "d) Ermittle, an welcher Position die erste 0 erscheint."
   ]
  },
  {
   "cell_type": "code",
   "execution_count": 72,
   "id": "851cfc3a",
   "metadata": {},
   "outputs": [
    {
     "name": "stdout",
     "output_type": "stream",
     "text": [
      "Zufallszahlen: [2, 10, 1, 7, 7, 0, 7, 6, 4, 9, 0, 6, 7, 4, 8, 8, 7, 1, 9, 6, 1, 8, 0, 3, 7, 6, 4, 10, 4, 9, 4, 0, 0, 2, 9, 5, 10, 2, 5, 3, 2, 6, 5, 5, 2, 3, 5, 7, 6, 0]\n",
      "Summe aller Elemente: 242\n",
      "Anzahl der Nullen: 6\n",
      "Position der ersten 0: 5\n"
     ]
    }
   ],
   "source": [
    "import random\n",
    "\n",
    "# a) Liste mit 50 Zufallszahlen zwischen 0 und 10 (inklusive)\n",
    "zufallszahlen = [random.randint(0, 10) for _ in range(50)]\n",
    "print(\"Zufallszahlen:\", zufallszahlen)\n",
    "\n",
    "# b) Summe aller Elemente\n",
    "summe = sum(zufallszahlen)\n",
    "print(\"Summe aller Elemente:\", summe)\n",
    "\n",
    "# c) Zähle, wie oft der Wert 0 vorkommt\n",
    "anzahl_null = zufallszahlen.count(0)\n",
    "print(\"Anzahl der Nullen:\", anzahl_null)\n",
    "\n",
    "# d) Position der ersten 0 (falls vorhanden)\n",
    "if 0 in zufallszahlen:\n",
    "    position_null = zufallszahlen.index(0)\n",
    "    print(\"Position der ersten 0:\", position_null)\n",
    "else:\n",
    "    print(\"Keine 0 in der Liste gefunden.\")"
   ]
  },
  {
   "cell_type": "markdown",
   "id": "953487b2",
   "metadata": {},
   "source": [
    "Aufgabe 10 – Verzweigungen, Schleifen\n",
    "\n",
    "a) Berechne von einer eingegebenen, natürlichen Zahl die Quersumme und gib diese auf\n",
    "dem Bildschirm aus.\n",
    "\n",
    "b) Berechne von zwei eingegebenen natürlichen Zahlen den grössten gemeinsame Teiler\n",
    "(ggT). Welche Realisierungsmöglichkeiten (Lösungswege) kennst du?\n",
    "\n",
    "c) Stelle von einer einzugebenden, natürlichen Zahl fest, ob sie eine Primzahl ist oder nicht.\n",
    "Welche Realisierungsmöglichkeiten (Lösungswege) kennst du?\n",
    "\n",
    "d) Berechne mit Hilfe des Siebes von Eratosthenes alle Primzahlen in einem bestimmten\n",
    "Intervall 𝐼 = [𝑎; 𝑏] mit 𝑎, 𝑏 ∈ ℕ. Gib diese auf dem Bildschirm aus.\n",
    "\n",
    "e) Zerlege eine einzugebende natürliche Zahl in ihre Primfaktoren und gib diese auf dem\n",
    "Bildschirm aus. Welche Realisierungsmöglichkeiten kennst du?"
   ]
  },
  {
   "cell_type": "code",
   "execution_count": 73,
   "id": "473433a2",
   "metadata": {},
   "outputs": [
    {
     "name": "stdout",
     "output_type": "stream",
     "text": [
      "Die Quersumme von 455 ist: 14\n"
     ]
    }
   ],
   "source": [
    "# a) Quersumme einer eingegebenen natürlichen Zahl berechnen\n",
    "zahl = int(input(\"Gib eine natürliche Zahl ein: \"))\n",
    "quersumme = sum(int(digit) for digit in str(zahl))\n",
    "print(\"Die Quersumme von\", zahl, \"ist:\", quersumme)"
   ]
  },
  {
   "cell_type": "markdown",
   "id": "db3fce37",
   "metadata": {},
   "source": [
    "b) Berechne von zwei eingegebenen natürlichen Zahlen den grössten gemeinsame Teiler\n",
    "(ggT). Welche Realisierungsmöglichkeiten (Lösungswege) kennst du?"
   ]
  },
  {
   "cell_type": "code",
   "execution_count": 75,
   "id": "0f31aa86",
   "metadata": {},
   "outputs": [
    {
     "name": "stdout",
     "output_type": "stream",
     "text": [
      "ggT (mit math.gcd) von 7 und 14 ist: 7\n",
      "ggT (mit Euklidischem Algorithmus) von 7 und 14 ist: 7\n"
     ]
    }
   ],
   "source": [
    "import math\n",
    "\n",
    "# Eingabe von zwei natürlichen Zahlen\n",
    "zahl1 = int(input(\"Gib die erste natürliche Zahl ein: \"))\n",
    "zahl2 = int(input(\"Gib die zweite natürliche Zahl ein: \"))\n",
    "\n",
    "# Möglichkeit 1: Mit der math.gcd Funktion\n",
    "ggt_math = math.gcd(zahl1, zahl2)\n",
    "print(f\"ggT (mit math.gcd) von {zahl1} und {zahl2} ist:\", ggt_math)\n",
    "\n",
    "# Möglichkeit 2: Mit dem euklidischen Algorithmus (ohne Modul)\n",
    "def ggt_euklid(a, b):\n",
    "    while b != 0:\n",
    "        a, b = b, a % b\n",
    "    return a\n",
    "\n",
    "ggt_euklidisch = ggt_euklid(zahl1, zahl2)\n",
    "print(f\"ggT (mit Euklidischem Algorithmus) von {zahl1} und {zahl2} ist:\", ggt_euklidisch)\n",
    "\n",
    "# Weitere Möglichkeiten:\n",
    "# - Primfaktorzerlegung beider Zahlen und Multiplikation gemeinsamer Faktoren\n",
    "# - Subtraktionsverfahren (wiederholtes Subtrahieren der kleineren von der größeren Zahl)"
   ]
  },
  {
   "cell_type": "markdown",
   "id": "8bf97098",
   "metadata": {},
   "source": [
    "c) Stelle von einer einzugebenden, natürlichen Zahl fest, ob sie eine Primzahl ist oder nicht.\n",
    "Welche Realisierungsmöglichkeiten (Lösungswege) kennst du?"
   ]
  },
  {
   "cell_type": "code",
   "execution_count": 77,
   "id": "3e331432",
   "metadata": {},
   "outputs": [
    {
     "name": "stdout",
     "output_type": "stream",
     "text": [
      "14 ist keine Primzahl.\n"
     ]
    }
   ],
   "source": [
    "# Möglichkeit 1: Mit einer Schleife bis zur Quadratwurzel der Zahl\n",
    "def ist_primzahl(n):\n",
    "    if n < 2:\n",
    "        return False\n",
    "    for i in range(2, int(n**0.5) + 1):\n",
    "        if n % i == 0:\n",
    "            return False\n",
    "    return True\n",
    "\n",
    "zahl_prim = int(input(\"Gib eine natürliche Zahl ein: \"))\n",
    "if ist_primzahl(zahl_prim):\n",
    "    print(f\"{zahl_prim} ist eine Primzahl.\")\n",
    "else:\n",
    "    print(f\"{zahl_prim} ist keine Primzahl.\")\n",
    "\n",
    "# Weitere Möglichkeiten:\n",
    "# - Prüfen durch Testen aller Zahlen von 2 bis n-1 (langsamer)\n",
    "# - Mit Hilfe von Sieb-Algorithmen (z.B. Sieb von Eratosthenes für viele Zahlen)\n",
    "# - Probabilistische Tests für sehr große Zahlen (z.B. Miller-Rabin-Test)"
   ]
  },
  {
   "cell_type": "markdown",
   "id": "78438b69",
   "metadata": {},
   "source": [
    "d) Berechne mit Hilfe des Siebes von Eratosthenes alle Primzahlen in einem bestimmten\n",
    "Intervall 𝐼 = [𝑎; 𝑏] mit 𝑎, 𝑏 ∈ ℕ. Gib diese auf dem Bildschirm aus."
   ]
  },
  {
   "cell_type": "code",
   "execution_count": 78,
   "id": "486c6a48",
   "metadata": {},
   "outputs": [
    {
     "name": "stdout",
     "output_type": "stream",
     "text": [
      "Primzahlen im Intervall [1; 7]: [2, 3, 5, 7]\n"
     ]
    }
   ],
   "source": [
    "# Eingabe der Intervallgrenzen\n",
    "a = int(input(\"Gib die untere Grenze a ein: \"))\n",
    "b = int(input(\"Gib die obere Grenze b ein: \"))\n",
    "\n",
    "# Sieb von Eratosthenes für das Intervall [a, b]\n",
    "def sieb_von_eratosthenes(a, b):\n",
    "    if b < 2:\n",
    "        return []\n",
    "    sieve = [True] * (b + 1)\n",
    "    sieve[0:2] = [False, False]\n",
    "    for i in range(2, int(b**0.5) + 1):\n",
    "        if sieve[i]:\n",
    "            for j in range(i*i, b + 1, i):\n",
    "                sieve[j] = False\n",
    "    return [x for x in range(max(a, 2), b + 1) if sieve[x]]\n",
    "\n",
    "primzahlen = sieb_von_eratosthenes(a, b)\n",
    "print(f\"Primzahlen im Intervall [{a}; {b}]:\", primzahlen)"
   ]
  },
  {
   "cell_type": "markdown",
   "id": "c6d50b7c",
   "metadata": {},
   "source": [
    "e) Zerlege eine einzugebende natürliche Zahl in ihre Primfaktoren und gib diese auf dem\n",
    "Bildschirm aus. Welche Realisierungsmöglichkeiten kennst du?"
   ]
  },
  {
   "cell_type": "code",
   "execution_count": 79,
   "id": "557b684f",
   "metadata": {},
   "outputs": [
    {
     "name": "stdout",
     "output_type": "stream",
     "text": [
      "Primfaktoren von 14: [2, 7]\n"
     ]
    }
   ],
   "source": [
    "# Möglichkeit 1: Klassische Primfaktorzerlegung durch fortlaufendes Teilen\n",
    "def primfaktoren(n):\n",
    "    faktoren = []\n",
    "    teiler = 2\n",
    "    while teiler * teiler <= n:\n",
    "        while n % teiler == 0:\n",
    "            faktoren.append(teiler)\n",
    "            n //= teiler\n",
    "        teiler += 1\n",
    "    if n > 1:\n",
    "        faktoren.append(n)\n",
    "    return faktoren\n",
    "\n",
    "zahl_fakt = int(input(\"Gib eine natürliche Zahl ein: \"))\n",
    "faktoren = primfaktoren(zahl_fakt)\n",
    "print(f\"Primfaktoren von {zahl_fakt}:\", faktoren)\n",
    "\n",
    "# Weitere Möglichkeiten:\n",
    "# - Mit Hilfe einer vorab berechneten Primzahlliste (z.B. Sieb von Eratosthenes)\n",
    "# - Rekursive Zerlegung\n",
    "# - Probabilistische Algorithmen für sehr große Zahlen (z.B. Pollard-Rho)"
   ]
  }
 ],
 "metadata": {
  "kernelspec": {
   "display_name": ".venv",
   "language": "python",
   "name": "python3"
  },
  "language_info": {
   "codemirror_mode": {
    "name": "ipython",
    "version": 3
   },
   "file_extension": ".py",
   "mimetype": "text/x-python",
   "name": "python",
   "nbconvert_exporter": "python",
   "pygments_lexer": "ipython3",
   "version": "3.9.6"
  }
 },
 "nbformat": 4,
 "nbformat_minor": 5
}
